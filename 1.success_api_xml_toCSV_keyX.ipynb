{
 "cells": [
  {
   "cell_type": "markdown",
   "id": "87092b3c-62ed-4d3e-aa4a-77007f0a2926",
   "metadata": {},
   "source": [
    "성공한 버전을 정리해봅니다.\n",
    "\n",
    "참고자료:\n",
    "* https://greendreamtrre.tistory.com/268?category=891831 #xml 읽어들이기\n",
    "* https://wikidocs.net/43280 #xml파일을 csv파일로 저장"
   ]
  },
  {
   "cell_type": "code",
   "execution_count": 1,
   "id": "1ca3a0ff-fef5-40c2-a23a-39df99c14960",
   "metadata": {},
   "outputs": [],
   "source": [
    "import requests, bs4\n",
    "import pandas as pd\n",
    "from lxml import html\n",
    "from urllib.request import Request, urlopen\n",
    "from urllib.parse import urlencode, quote_plus, unquote"
   ]
  },
  {
   "cell_type": "code",
   "execution_count": 3,
   "id": "efb32a7f-643a-45ff-8afc-34e1df69db36",
   "metadata": {},
   "outputs": [],
   "source": [
    "# LAWD_CD\n",
    "# DEAL_YMD\n",
    "# serviceKey\n",
    "# 잘 찾아서 입력하기. \n",
    "# 나눠서 하는 걸 했었는데 실패 → 한 문장으로 작성\n",
    "xmlUrl='http://openapi.molit.go.kr/OpenAPI_ToolInstallPackage/service/rest/RTMSOBJSvc/getRTMSDataSvcAptTradeDev?LAWD_CD=11110&DEAL_YMD=201512&serviceKey=서비스키'\n",
    "\n",
    "# 차후에 나눠서 하는 것도 재도전해볼 예정.\n",
    "# #?_wadl&type=xml 포함\n",
    "# #xmlUrl='http://openapi.molit.go.kr/OpenAPI_ToolInstallPackage/service/rest/RTMSOBJSvc/getRTMSDataSvcAptTradeDev?_wadl&type=xml'\n",
    "\n",
    "# #?_wadl&type=xml 미포함\n",
    "# xmlUrl='http://openapi.molit.go.kr/OpenAPI_ToolInstallPackage/service/rest/RTMSOBJSvc/getRTMSDataSvcAptTradeDev'\n",
    "# my_api_key=unquote('서비스키')\n",
    "# queryParams='?'+urlencode({\n",
    "#     quote_plus('servicekey'):my_api_key,\n",
    "#     quote_plus('LAWD_CD'): '11110',\n",
    "#     quote_plus('DEAL_YMD'): '201512'\n",
    "# })"
   ]
  },
  {
   "cell_type": "code",
   "execution_count": 4,
   "id": "4dcd60d0-198b-482d-985b-b1b8395abb51",
   "metadata": {},
   "outputs": [],
   "source": [
    "response = requests.get(xmlUrl).text.encode('utf-8')\n",
    "xmlobj=bs4.BeautifulSoup(response, 'lxml-xml')\n",
    "# xmlobj #test"
   ]
  },
  {
   "cell_type": "code",
   "execution_count": 5,
   "id": "94694b79-f8b0-462c-a39a-acd4643ac12c",
   "metadata": {},
   "outputs": [],
   "source": [
    "rows = xmlobj.findAll('item')\n",
    "# rows[0] #test\n",
    "columns = rows[0].find_all()\n",
    "# columns #test\n",
    "# columns[0].name #test\n",
    "# columns[0].text #test"
   ]
  },
  {
   "cell_type": "code",
   "execution_count": 6,
   "id": "a5798796-b347-4d41-aa19-976c93378220",
   "metadata": {},
   "outputs": [],
   "source": [
    "rowList=[]\n",
    "nameList=[]\n",
    "columnList=[]\n",
    "\n",
    "rowsLen = len(rows)\n",
    "for i in range(0, rowsLen):\n",
    "    columns=rows[i].find_all()\n",
    "    \n",
    "    columnsLen=len(columns)\n",
    "    for j in range(0, columnsLen):\n",
    "        if i == 0:\n",
    "            nameList.append(columns[j].name)\n",
    "        eachColumn = columns[j].text\n",
    "        columnList.append(eachColumn)\n",
    "    rowList.append(columnList)\n",
    "    columnList=[]\n",
    "    \n",
    "result = pd.DataFrame(rowList, columns=nameList)\n",
    "# result.head() #test"
   ]
  },
  {
   "cell_type": "code",
   "execution_count": 7,
   "id": "19b111ec-a9fb-4879-9ea0-29f6a811307e",
   "metadata": {},
   "outputs": [],
   "source": [
    "import pandas as pd\n",
    "df=pd.DataFrame(result)\n",
    "df.to_csv(\"1-1.api_xml_ex_result_toCSV.csv\", encoding='cp949')"
   ]
  },
  {
   "cell_type": "markdown",
   "id": "45a2ec6f-6594-4abf-b299-cf04d274f342",
   "metadata": {},
   "source": [
    "실제 우리가 원하는 데이터에 적용해보기_도전!"
   ]
  }
 ],
 "metadata": {
  "kernelspec": {
   "display_name": "Python 3",
   "language": "python",
   "name": "python3"
  },
  "language_info": {
   "codemirror_mode": {
    "name": "ipython",
    "version": 3
   },
   "file_extension": ".py",
   "mimetype": "text/x-python",
   "name": "python",
   "nbconvert_exporter": "python",
   "pygments_lexer": "ipython3",
   "version": "3.8.8"
  }
 },
 "nbformat": 4,
 "nbformat_minor": 5
}
