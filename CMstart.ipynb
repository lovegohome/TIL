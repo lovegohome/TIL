{
  "nbformat": 4,
  "nbformat_minor": 0,
  "metadata": {
    "colab": {
      "name": "CMstart.ipynb",
      "provenance": [],
      "authorship_tag": "ABX9TyNsdzQOIeqolwQ+grpWKon+",
      "include_colab_link": true
    },
    "kernelspec": {
      "name": "python3",
      "display_name": "Python 3"
    },
    "language_info": {
      "name": "python"
    }
  },
  "cells": [
    {
      "cell_type": "markdown",
      "metadata": {
        "id": "view-in-github",
        "colab_type": "text"
      },
      "source": [
        "<a href=\"https://colab.research.google.com/github/lovegohome/TIL/blob/master/CMstart.ipynb\" target=\"_parent\"><img src=\"https://colab.research.google.com/assets/colab-badge.svg\" alt=\"Open In Colab\"/></a>"
      ]
    },
    {
      "cell_type": "markdown",
      "metadata": {
        "id": "TsaU7qYaJo3v"
      },
      "source": [
        "# CM = Cloudera Manager \n",
        "vagrant server에 cm을 설치하고 작동시키는 작업을 진행중입니다. \n",
        "cm을 돌리기 위해서는 기본적으로 server가 2개를 기본적으로 갖고 있어야 하는 것을 알았습니다. \n",
        "\n",
        "차후에 cm 설치 과정과 활용 방안에 대해서 정리해보겠습니다. "
      ]
    },
    {
      "cell_type": "code",
      "metadata": {
        "id": "yqrYaW60Jn3d"
      },
      "source": [
        ""
      ],
      "execution_count": null,
      "outputs": []
    }
  ]
}