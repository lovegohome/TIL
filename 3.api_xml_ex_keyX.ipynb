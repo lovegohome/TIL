{
 "cells": [
  {
   "cell_type": "code",
   "execution_count": 1,
   "id": "8c63d536-edc4-4c61-9554-7aca101ddf89",
   "metadata": {},
   "outputs": [],
   "source": [
    "import requests, bs4\n",
    "import pandas as pd\n",
    "from lxml import html\n",
    "from urllib.request import Request, urlopen\n",
    "from urllib.parse import urlencode, quote_plus, unquote"
   ]
  },
  {
   "cell_type": "code",
   "execution_count": 2,
   "id": "6837daa1-01bb-4c29-8d63-7be685d21d2f",
   "metadata": {},
   "outputs": [],
   "source": [
    "# #1. URL 파라미터 분리하기.\n",
    "# #Service URL\n",
    "# xmlUrl='http://openapi.molit.go.kr/OpenAPI_ToolInstallPackage/service/rest/RTMSOBJSvc/getRTMSDataSvcAptTradeDev'\n",
    "\n",
    "# #일반 인증키(Encoding)\n",
    "# My_API_Key=unquote('서비스키')\n",
    "\n",
    "# #get 방식으로 쿼리를 분리하기 위해 '?'를 넣음, 메타코드 아님.\n",
    "# queryParams = '?' + urlencode(\n",
    "#     {\n",
    "#         quote_plus('ServiceKey'): My_API_Key, #필수항목1: 서비스키\n",
    "#         quote_plus('LAWD_CD'): '11110' #필수항목2: 지역코드(법정코드 목록조회에서 확인)\n",
    "#         quote_plus('DEAL_YMD'): '201812' #필수항목3: 계약월\n",
    "#     }\n",
    "# )\n",
    "\n",
    "# response = requests.get(xmlUrl+queryParams).text.encode('utf-8')\n",
    "# xmlobj = bs4.BeatifulSoup(response, 'lxml-xml') #xmlobj: 디버깅용"
   ]
  },
  {
   "cell_type": "code",
   "execution_count": 3,
   "id": "c7b32819-04e8-4e1e-8fe8-4fa3208e89a9",
   "metadata": {},
   "outputs": [],
   "source": [
    "#xmlUrl='http://openapi.molit.go.kr/OpenAPI_ToolInstallPackage/service/rest/RTMSOBJSvc/getRTMSDataSvcAptTradeDev?ServiceKey=서비스키&LAWD_CD=11110&DEAL_YWD=201512'"
   ]
  },
  {
   "cell_type": "code",
   "execution_count": 4,
   "id": "a5c4dce7-7708-4ab6-8bb5-3105d6bf525a",
   "metadata": {
    "tags": []
   },
   "outputs": [],
   "source": [
    "# response=requests.get(xmlUrl).text.encode('utf-8')\n",
    "# xmlobj = bs4.BeautifulSoup(response, 'lxml-xml')\n",
    "# # xmlobj    # 디버깅용."
   ]
  },
  {
   "cell_type": "markdown",
   "id": "1ee6b948-3691-47f2-a158-5ccccfa9656d",
   "metadata": {},
   "source": [
    "도전/실패"
   ]
  },
  {
   "cell_type": "code",
   "execution_count": 5,
   "id": "fa30b2e8-93a3-44a0-8d28-a30004577cb0",
   "metadata": {},
   "outputs": [],
   "source": [
    "#?_wadl&type=xml 포함\n",
    "#xmlUrl='http://openapi.molit.go.kr/OpenAPI_ToolInstallPackage/service/rest/RTMSOBJSvc/getRTMSDataSvcAptTradeDev?_wadl&type=xml'\n",
    "\n",
    "#?_wadl&type=xml 미포함\n",
    "xmlUrl='http://openapi.molit.go.kr/OpenAPI_ToolInstallPackage/service/rest/RTMSOBJSvc/getRTMSDataSvcAptTradeDev'\n",
    "my_api_key=unquote('서비스키')\n",
    "queryParams='?'+urlencode({\n",
    "    quote_plus('servicekey'):my_api_key,\n",
    "    quote_plus('LAWD_CD'): '11110',\n",
    "    quote_plus('DEAL_YMD'): '201512'\n",
    "})"
   ]
  },
  {
   "cell_type": "code",
   "execution_count": 6,
   "id": "ed4e15cf-1649-4df5-9bc8-e6e48b26f78a",
   "metadata": {},
   "outputs": [],
   "source": [
    "response = requests.get(xmlUrl + queryParams).text.encode('utf-8')\n",
    "xmlobj=bs4.BeautifulSoup(response, 'lxml-xml')"
   ]
  },
  {
   "cell_type": "markdown",
   "id": "7d47c3d2-7b21-41e7-97be-85e058020952",
   "metadata": {},
   "source": [
    "성공한 버전"
   ]
  },
  {
   "cell_type": "code",
   "execution_count": 1,
   "id": "862d5e3a-1207-44fc-8cf7-c13f83790dcd",
   "metadata": {},
   "outputs": [],
   "source": [
    "import requests, bs4\n",
    "import pandas as pd\n",
    "from lxml import html\n",
    "from urllib.request import Request, urlopen\n",
    "from urllib.parse import urlencode, quote_plus, unquote"
   ]
  },
  {
   "cell_type": "code",
   "execution_count": 2,
   "id": "280389e5-9e2c-4b2a-810a-4e058c7f06a5",
   "metadata": {},
   "outputs": [],
   "source": [
    "xmlUrl='http://openapi.molit.go.kr/OpenAPI_ToolInstallPackage/service/rest/RTMSOBJSvc/getRTMSDataSvcAptTradeDev?LAWD_CD=11110&DEAL_YMD=201512&serviceKey=서비스키'"
   ]
  },
  {
   "cell_type": "code",
   "execution_count": 3,
   "id": "5e20e960-efae-4090-ac0f-7fc9f628fc3c",
   "metadata": {},
   "outputs": [],
   "source": [
    "response = requests.get(xmlUrl).text.encode('utf-8')\n",
    "xmlobj=bs4.BeautifulSoup(response, 'lxml-xml')"
   ]
  },
  {
   "cell_type": "code",
   "execution_count": 4,
   "id": "265e34e8-0568-405f-bedf-213a37111d80",
   "metadata": {
    "collapsed": true,
    "jupyter": {
     "outputs_hidden": true
    },
    "tags": []
   },
   "outputs": [
    {
     "data": {
      "text/plain": [
       "<?xml version=\"1.0\" encoding=\"utf-8\"?>\n",
       "<response><header><resultCode>00</resultCode><resultMsg>NORMAL SERVICE.</resultMsg></header><body><items><item><거래금액>    82,500</거래금액><건축년도>2008</건축년도><년>2015</년><도로명>사직로8길</도로명><도로명건물본번호코드>00004</도로명건물본번호코드><도로명건물부번호코드>00000</도로명건물부번호코드><도로명시군구코드>11110</도로명시군구코드><도로명일련번호코드>03</도로명일련번호코드><도로명지상지하코드>0</도로명지상지하코드><도로명코드>4100135</도로명코드><법정동> 사직동</법정동><법정동본번코드>0009</법정동본번코드><법정동부번코드>0000</법정동부번코드><법정동시군구코드>11110</법정동시군구코드><법정동읍면동코드>11500</법정동읍면동코드><법정동지번코드>1</법정동지번코드><아파트>광화문풍림스페이스본(101동~105동)</아파트><월>12</월><일>10</일><일련번호>11110-2203</일련번호><전용면적>94.51</전용면적><지번>9</지번><지역코드>11110</지역코드><층>11</층><해제사유발생일> </해제사유발생일><해제여부> </해제여부></item><item><거래금액>    60,000</거래금액><건축년도>1981</건축년도><년>2015</년><도로명>세종대로23길</도로명><도로명건물본번호코드>00047</도로명건물본번호코드><도로명건물부번호코드>00000</도로명건물부번호코드><도로명시군구코드>11110</도로명시군구코드><도로명일련번호코드>02</도로명일련번호코드><도로명지상지하코드>0</도로명지상지하코드><도로명코드>4100190</도로명코드><법정동> 당주동</법정동><법정동본번코드>0145</법정동본번코드><법정동부번코드>0000</법정동부번코드><법정동시군구코드>11110</법정동시군구코드><법정동읍면동코드>11700</법정동읍면동코드><법정동지번코드>1</법정동지번코드><아파트>롯데미도파광화문빌딩</아파트><월>12</월><일>22</일><일련번호>11110-12</일련번호><전용면적>149.95</전용면적><지번>145</지번><지역코드>11110</지역코드><층>8</층><해제사유발생일> </해제사유발생일><해제여부> </해제여부></item><item><거래금액>   130,000</거래금액><건축년도>2004</건축년도><년>2015</년><도로명>경희궁2길</도로명><도로명건물본번호코드>00005</도로명건물본번호코드><도로명건물부번호코드>00005</도로명건물부번호코드><도로명시군구코드>11110</도로명시군구코드><도로명일련번호코드>01</도로명일련번호코드><도로명지상지하코드>0</도로명지상지하코드><도로명코드>4100005</도로명코드><법정동> 내수동</법정동><법정동본번코드>0110</법정동본번코드><법정동부번코드>0015</법정동부번코드><법정동시군구코드>11110</법정동시군구코드><법정동읍면동코드>11800</법정동읍면동코드><법정동지번코드>1</법정동지번코드><아파트>킹스매너</아파트><월>12</월><일>8</일><일련번호>11110-118</일련번호><전용면적>194.43</전용면적><지번>110-15</지번><지역코드>11110</지역코드><층>6</층><해제사유발생일> </해제사유발생일><해제여부> </해제여부></item><item><거래금액>   105,000</거래금액><건축년도>2004</건축년도><년>2015</년><도로명>사직로8길</도로명><도로명건물본번호코드>00024</도로명건물본번호코드><도로명건물부번호코드>00000</도로명건물부번호코드><도로명시군구코드>11110</도로명시군구코드><도로명일련번호코드>05</도로명일련번호코드><도로명지상지하코드>0</도로명지상지하코드><도로명코드>4100135</도로명코드><법정동> 내수동</법정동><법정동본번코드>0071</법정동본번코드><법정동부번코드>0000</법정동부번코드><법정동시군구코드>11110</법정동시군구코드><법정동읍면동코드>11800</법정동읍면동코드><법정동지번코드>1</법정동지번코드><아파트>경희궁의아침2단지</아파트><월>12</월><일>14</일><일련번호>11110-115</일련번호><전용면적>124.17</전용면적><지번>71</지번><지역코드>11110</지역코드><층>8</층><해제사유발생일> </해제사유발생일><해제여부> </해제여부></item><item><거래금액>   120,000</거래금액><건축년도>2003</건축년도><년>2015</년><도로명>사직로8길</도로명><도로명건물본번호코드>00020</도로명건물본번호코드><도로명건물부번호코드>00000</도로명건물부번호코드><도로명시군구코드>11110</도로명시군구코드><도로명일련번호코드>05</도로명일련번호코드><도로명지상지하코드>0</도로명지상지하코드><도로명코드>4100135</도로명코드><법정동> 내수동</법정동><법정동본번코드>0095</법정동본번코드><법정동부번코드>0000</법정동부번코드><법정동시군구코드>11110</법정동시군구코드><법정동읍면동코드>11800</법정동읍면동코드><법정동지번코드>1</법정동지번코드><아파트>경희궁 파크팰리스</아파트><월>12</월><일>24</일><일련번호>11110-107</일련번호><전용면적>146.33</전용면적><지번>95</지번><지역코드>11110</지역코드><층>4</층><해제사유발생일> </해제사유발생일><해제여부> </해제여부></item><item><거래금액>    17,000</거래금액><건축년도>2014</건축년도><년>2015</년><도로명>대학로</도로명><도로명건물본번호코드>00047</도로명건물본번호코드><도로명건물부번호코드>00000</도로명건물부번호코드><도로명시군구코드>11110</도로명시군구코드><도로명일련번호코드>05</도로명일련번호코드><도로명지상지하코드>0</도로명지상지하코드><도로명코드>3100002</도로명코드><법정동> 연건동</법정동><법정동본번코드>0195</법정동본번코드><법정동부번코드>0010</법정동부번코드><법정동시군구코드>11110</법정동시군구코드><법정동읍면동코드>16600</법정동읍면동코드><법정동지번코드>1</법정동지번코드><아파트>이화에수풀</아파트><월>12</월><일>17</일><일련번호>11110-2359</일련번호><전용면적>16.98</전용면적><지번>195-10</지번><지역코드>11110</지역코드><층>8</층><해제사유발생일> </해제사유발생일><해제여부> </해제여부></item><item><거래금액>    17,000</거래금액><건축년도>2014</건축년도><년>2015</년><도로명>대학로</도로명><도로명건물본번호코드>00047</도로명건물본번호코드><도로명건물부번호코드>00000</도로명건물부번호코드><도로명시군구코드>11110</도로명시군구코드><도로명일련번호코드>05</도로명일련번호코드><도로명지상지하코드>0</도로명지상지하코드><도로명코드>3100002</도로명코드><법정동> 연건동</법정동><법정동본번코드>0195</법정동본번코드><법정동부번코드>0010</법정동부번코드><법정동시군구코드>11110</법정동시군구코드><법정동읍면동코드>16600</법정동읍면동코드><법정동지번코드>1</법정동지번코드><아파트>이화에수풀</아파트><월>12</월><일>18</일><일련번호>11110-2359</일련번호><전용면적>16.98</전용면적><지번>195-10</지번><지역코드>11110</지역코드><층>4</층><해제사유발생일> </해제사유발생일><해제여부> </해제여부></item><item><거래금액>    57,000</거래금액><건축년도>2006</건축년도><년>2015</년><도로명>혜화로3가길</도로명><도로명건물본번호코드>00030</도로명건물본번호코드><도로명건물부번호코드>00000</도로명건물부번호코드><도로명시군구코드>11110</도로명시군구코드><도로명일련번호코드>01</도로명일련번호코드><도로명지상지하코드>0</도로명지상지하코드><도로명코드>4100544</도로명코드><법정동> 명륜1가</법정동><법정동본번코드>0019</법정동본번코드><법정동부번코드>0000</법정동부번코드><법정동시군구코드>11110</법정동시군구코드><법정동읍면동코드>17000</법정동읍면동코드><법정동지번코드>1</법정동지번코드><아파트>렉스빌</아파트><월>12</월><일>29</일><일련번호>11110-973</일련번호><전용면적>106.98</전용면적><지번>19</지번><지역코드>11110</지역코드><층>3</층><해제사유발생일> </해제사유발생일><해제여부> </해제여부></item><item><거래금액>    44,000</거래금액><건축년도>1995</건축년도><년>2015</년><도로명>창경궁로</도로명><도로명건물본번호코드>00265</도로명건물본번호코드><도로명건물부번호코드>00000</도로명건물부번호코드><도로명시군구코드>11110</도로명시군구코드><도로명일련번호코드>07</도로명일련번호코드><도로명지상지하코드>0</도로명지상지하코드><도로명코드>3005008</도로명코드><법정동> 명륜2가</법정동><법정동본번코드>0004</법정동본번코드><법정동부번코드>0000</법정동부번코드><법정동시군구코드>11110</법정동시군구코드><법정동읍면동코드>17100</법정동읍면동코드><법정동지번코드>1</법정동지번코드><아파트>아남1</아파트><월>12</월><일>1</일><일련번호>11110-25</일련번호><전용면적>84.8</전용면적><지번>4</지번><지역코드>11110</지역코드><층>18</층><해제사유발생일> </해제사유발생일><해제여부> </해제여부></item><item><거래금액>    52,000</거래금액><건축년도>1995</건축년도><년>2015</년><도로명>창경궁로</도로명><도로명건물본번호코드>00265</도로명건물본번호코드><도로명건물부번호코드>00000</도로명건물부번호코드><도로명시군구코드>11110</도로명시군구코드><도로명일련번호코드>07</도로명일련번호코드><도로명지상지하코드>0</도로명지상지하코드><도로명코드>3005008</도로명코드><법정동> 명륜2가</법정동><법정동본번코드>0004</법정동본번코드><법정동부번코드>0000</법정동부번코드><법정동시군구코드>11110</법정동시군구코드><법정동읍면동코드>17100</법정동읍면동코드><법정동지번코드>1</법정동지번코드><아파트>아남1</아파트><월>12</월><일>10</일><일련번호>11110-25</일련번호><전용면적>84.9</전용면적><지번>4</지번><지역코드>11110</지역코드><층>12</층><해제사유발생일> </해제사유발생일><해제여부> </해제여부></item></items><numOfRows>10</numOfRows><pageNo>1</pageNo><totalCount>49</totalCount></body></response>"
      ]
     },
     "execution_count": 4,
     "metadata": {},
     "output_type": "execute_result"
    }
   ],
   "source": [
    "xmlobj"
   ]
  },
  {
   "cell_type": "code",
   "execution_count": 5,
   "id": "cfe37e18-b28b-4b49-b3fe-480da87ded09",
   "metadata": {},
   "outputs": [],
   "source": [
    "rows = xmlobj.findAll('item')"
   ]
  },
  {
   "cell_type": "code",
   "execution_count": 6,
   "id": "0e0210ae-7300-45b4-99f7-ff0ee1d91be2",
   "metadata": {
    "tags": []
   },
   "outputs": [
    {
     "data": {
      "text/plain": [
       "<item><거래금액>    82,500</거래금액><건축년도>2008</건축년도><년>2015</년><도로명>사직로8길</도로명><도로명건물본번호코드>00004</도로명건물본번호코드><도로명건물부번호코드>00000</도로명건물부번호코드><도로명시군구코드>11110</도로명시군구코드><도로명일련번호코드>03</도로명일련번호코드><도로명지상지하코드>0</도로명지상지하코드><도로명코드>4100135</도로명코드><법정동> 사직동</법정동><법정동본번코드>0009</법정동본번코드><법정동부번코드>0000</법정동부번코드><법정동시군구코드>11110</법정동시군구코드><법정동읍면동코드>11500</법정동읍면동코드><법정동지번코드>1</법정동지번코드><아파트>광화문풍림스페이스본(101동~105동)</아파트><월>12</월><일>10</일><일련번호>11110-2203</일련번호><전용면적>94.51</전용면적><지번>9</지번><지역코드>11110</지역코드><층>11</층><해제사유발생일> </해제사유발생일><해제여부> </해제여부></item>"
      ]
     },
     "execution_count": 6,
     "metadata": {},
     "output_type": "execute_result"
    }
   ],
   "source": [
    "rows[0]"
   ]
  },
  {
   "cell_type": "code",
   "execution_count": 7,
   "id": "12f41a32-5ca8-4328-9422-5c2528364638",
   "metadata": {
    "tags": []
   },
   "outputs": [
    {
     "data": {
      "text/plain": [
       "[<거래금액>    82,500</거래금액>,\n",
       " <건축년도>2008</건축년도>,\n",
       " <년>2015</년>,\n",
       " <도로명>사직로8길</도로명>,\n",
       " <도로명건물본번호코드>00004</도로명건물본번호코드>,\n",
       " <도로명건물부번호코드>00000</도로명건물부번호코드>,\n",
       " <도로명시군구코드>11110</도로명시군구코드>,\n",
       " <도로명일련번호코드>03</도로명일련번호코드>,\n",
       " <도로명지상지하코드>0</도로명지상지하코드>,\n",
       " <도로명코드>4100135</도로명코드>,\n",
       " <법정동> 사직동</법정동>,\n",
       " <법정동본번코드>0009</법정동본번코드>,\n",
       " <법정동부번코드>0000</법정동부번코드>,\n",
       " <법정동시군구코드>11110</법정동시군구코드>,\n",
       " <법정동읍면동코드>11500</법정동읍면동코드>,\n",
       " <법정동지번코드>1</법정동지번코드>,\n",
       " <아파트>광화문풍림스페이스본(101동~105동)</아파트>,\n",
       " <월>12</월>,\n",
       " <일>10</일>,\n",
       " <일련번호>11110-2203</일련번호>,\n",
       " <전용면적>94.51</전용면적>,\n",
       " <지번>9</지번>,\n",
       " <지역코드>11110</지역코드>,\n",
       " <층>11</층>,\n",
       " <해제사유발생일> </해제사유발생일>,\n",
       " <해제여부> </해제여부>]"
      ]
     },
     "execution_count": 7,
     "metadata": {},
     "output_type": "execute_result"
    }
   ],
   "source": [
    "columns = rows[0].find_all()\n",
    "columns"
   ]
  },
  {
   "cell_type": "code",
   "execution_count": 8,
   "id": "fe18c2f2-4cd6-496d-920a-bd29f4ec33cf",
   "metadata": {},
   "outputs": [
    {
     "data": {
      "text/plain": [
       "'거래금액'"
      ]
     },
     "execution_count": 8,
     "metadata": {},
     "output_type": "execute_result"
    }
   ],
   "source": [
    "columns[0].name"
   ]
  },
  {
   "cell_type": "code",
   "execution_count": 9,
   "id": "9262eca5-3a38-4ac6-b892-2adaaa5bc446",
   "metadata": {},
   "outputs": [
    {
     "data": {
      "text/plain": [
       "'    82,500'"
      ]
     },
     "execution_count": 9,
     "metadata": {},
     "output_type": "execute_result"
    }
   ],
   "source": [
    "columns[0].text"
   ]
  },
  {
   "cell_type": "code",
   "execution_count": 10,
   "id": "9f754dc0-953a-46c8-8411-25bda7fba9be",
   "metadata": {},
   "outputs": [],
   "source": [
    "rowList=[]\n",
    "nameList=[]\n",
    "columnList=[]\n",
    "\n",
    "columnsLen = len(columns)\n",
    "for j in range(0, columnsLen):\n",
    "    eachColumn = columns[j].text\n",
    "    columnList.append(eachColumn)\n",
    "rowList.append(columnList)"
   ]
  },
  {
   "cell_type": "code",
   "execution_count": 11,
   "id": "1dcf15b6-f13a-46c3-b291-947713d5db89",
   "metadata": {
    "tags": []
   },
   "outputs": [
    {
     "data": {
      "text/plain": [
       "[['    82,500',\n",
       "  '2008',\n",
       "  '2015',\n",
       "  '사직로8길',\n",
       "  '00004',\n",
       "  '00000',\n",
       "  '11110',\n",
       "  '03',\n",
       "  '0',\n",
       "  '4100135',\n",
       "  ' 사직동',\n",
       "  '0009',\n",
       "  '0000',\n",
       "  '11110',\n",
       "  '11500',\n",
       "  '1',\n",
       "  '광화문풍림스페이스본(101동~105동)',\n",
       "  '12',\n",
       "  '10',\n",
       "  '11110-2203',\n",
       "  '94.51',\n",
       "  '9',\n",
       "  '11110',\n",
       "  '11',\n",
       "  ' ',\n",
       "  ' ']]"
      ]
     },
     "execution_count": 11,
     "metadata": {},
     "output_type": "execute_result"
    }
   ],
   "source": [
    "rowList"
   ]
  },
  {
   "cell_type": "code",
   "execution_count": 12,
   "id": "6b88b061-1b9d-4851-8c91-0a1e3eaaa34d",
   "metadata": {
    "tags": []
   },
   "outputs": [
    {
     "data": {
      "text/html": [
       "<div>\n",
       "<style scoped>\n",
       "    .dataframe tbody tr th:only-of-type {\n",
       "        vertical-align: middle;\n",
       "    }\n",
       "\n",
       "    .dataframe tbody tr th {\n",
       "        vertical-align: top;\n",
       "    }\n",
       "\n",
       "    .dataframe thead th {\n",
       "        text-align: right;\n",
       "    }\n",
       "</style>\n",
       "<table border=\"1\" class=\"dataframe\">\n",
       "  <thead>\n",
       "    <tr style=\"text-align: right;\">\n",
       "      <th></th>\n",
       "      <th>거래금액</th>\n",
       "      <th>건축년도</th>\n",
       "      <th>년</th>\n",
       "      <th>도로명</th>\n",
       "      <th>도로명건물본번호코드</th>\n",
       "      <th>도로명건물부번호코드</th>\n",
       "      <th>도로명시군구코드</th>\n",
       "      <th>도로명일련번호코드</th>\n",
       "      <th>도로명지상지하코드</th>\n",
       "      <th>도로명코드</th>\n",
       "      <th>...</th>\n",
       "      <th>아파트</th>\n",
       "      <th>월</th>\n",
       "      <th>일</th>\n",
       "      <th>일련번호</th>\n",
       "      <th>전용면적</th>\n",
       "      <th>지번</th>\n",
       "      <th>지역코드</th>\n",
       "      <th>층</th>\n",
       "      <th>해제사유발생일</th>\n",
       "      <th>해제여부</th>\n",
       "    </tr>\n",
       "  </thead>\n",
       "  <tbody>\n",
       "    <tr>\n",
       "      <th>0</th>\n",
       "      <td>82,500</td>\n",
       "      <td>2008</td>\n",
       "      <td>2015</td>\n",
       "      <td>사직로8길</td>\n",
       "      <td>00004</td>\n",
       "      <td>00000</td>\n",
       "      <td>11110</td>\n",
       "      <td>03</td>\n",
       "      <td>0</td>\n",
       "      <td>4100135</td>\n",
       "      <td>...</td>\n",
       "      <td>광화문풍림스페이스본(101동~105동)</td>\n",
       "      <td>12</td>\n",
       "      <td>10</td>\n",
       "      <td>11110-2203</td>\n",
       "      <td>94.51</td>\n",
       "      <td>9</td>\n",
       "      <td>11110</td>\n",
       "      <td>11</td>\n",
       "      <td></td>\n",
       "      <td></td>\n",
       "    </tr>\n",
       "    <tr>\n",
       "      <th>1</th>\n",
       "      <td>60,000</td>\n",
       "      <td>1981</td>\n",
       "      <td>2015</td>\n",
       "      <td>세종대로23길</td>\n",
       "      <td>00047</td>\n",
       "      <td>00000</td>\n",
       "      <td>11110</td>\n",
       "      <td>02</td>\n",
       "      <td>0</td>\n",
       "      <td>4100190</td>\n",
       "      <td>...</td>\n",
       "      <td>롯데미도파광화문빌딩</td>\n",
       "      <td>12</td>\n",
       "      <td>22</td>\n",
       "      <td>11110-12</td>\n",
       "      <td>149.95</td>\n",
       "      <td>145</td>\n",
       "      <td>11110</td>\n",
       "      <td>8</td>\n",
       "      <td></td>\n",
       "      <td></td>\n",
       "    </tr>\n",
       "    <tr>\n",
       "      <th>2</th>\n",
       "      <td>130,000</td>\n",
       "      <td>2004</td>\n",
       "      <td>2015</td>\n",
       "      <td>경희궁2길</td>\n",
       "      <td>00005</td>\n",
       "      <td>00005</td>\n",
       "      <td>11110</td>\n",
       "      <td>01</td>\n",
       "      <td>0</td>\n",
       "      <td>4100005</td>\n",
       "      <td>...</td>\n",
       "      <td>킹스매너</td>\n",
       "      <td>12</td>\n",
       "      <td>8</td>\n",
       "      <td>11110-118</td>\n",
       "      <td>194.43</td>\n",
       "      <td>110-15</td>\n",
       "      <td>11110</td>\n",
       "      <td>6</td>\n",
       "      <td></td>\n",
       "      <td></td>\n",
       "    </tr>\n",
       "    <tr>\n",
       "      <th>3</th>\n",
       "      <td>105,000</td>\n",
       "      <td>2004</td>\n",
       "      <td>2015</td>\n",
       "      <td>사직로8길</td>\n",
       "      <td>00024</td>\n",
       "      <td>00000</td>\n",
       "      <td>11110</td>\n",
       "      <td>05</td>\n",
       "      <td>0</td>\n",
       "      <td>4100135</td>\n",
       "      <td>...</td>\n",
       "      <td>경희궁의아침2단지</td>\n",
       "      <td>12</td>\n",
       "      <td>14</td>\n",
       "      <td>11110-115</td>\n",
       "      <td>124.17</td>\n",
       "      <td>71</td>\n",
       "      <td>11110</td>\n",
       "      <td>8</td>\n",
       "      <td></td>\n",
       "      <td></td>\n",
       "    </tr>\n",
       "    <tr>\n",
       "      <th>4</th>\n",
       "      <td>120,000</td>\n",
       "      <td>2003</td>\n",
       "      <td>2015</td>\n",
       "      <td>사직로8길</td>\n",
       "      <td>00020</td>\n",
       "      <td>00000</td>\n",
       "      <td>11110</td>\n",
       "      <td>05</td>\n",
       "      <td>0</td>\n",
       "      <td>4100135</td>\n",
       "      <td>...</td>\n",
       "      <td>경희궁 파크팰리스</td>\n",
       "      <td>12</td>\n",
       "      <td>24</td>\n",
       "      <td>11110-107</td>\n",
       "      <td>146.33</td>\n",
       "      <td>95</td>\n",
       "      <td>11110</td>\n",
       "      <td>4</td>\n",
       "      <td></td>\n",
       "      <td></td>\n",
       "    </tr>\n",
       "  </tbody>\n",
       "</table>\n",
       "<p>5 rows × 26 columns</p>\n",
       "</div>"
      ],
      "text/plain": [
       "         거래금액  건축년도     년      도로명 도로명건물본번호코드 도로명건물부번호코드 도로명시군구코드 도로명일련번호코드  \\\n",
       "0      82,500  2008  2015    사직로8길      00004      00000    11110        03   \n",
       "1      60,000  1981  2015  세종대로23길      00047      00000    11110        02   \n",
       "2     130,000  2004  2015    경희궁2길      00005      00005    11110        01   \n",
       "3     105,000  2004  2015    사직로8길      00024      00000    11110        05   \n",
       "4     120,000  2003  2015    사직로8길      00020      00000    11110        05   \n",
       "\n",
       "  도로명지상지하코드    도로명코드  ...                    아파트   월   일        일련번호    전용면적  \\\n",
       "0         0  4100135  ...  광화문풍림스페이스본(101동~105동)  12  10  11110-2203   94.51   \n",
       "1         0  4100190  ...             롯데미도파광화문빌딩  12  22    11110-12  149.95   \n",
       "2         0  4100005  ...                   킹스매너  12   8   11110-118  194.43   \n",
       "3         0  4100135  ...              경희궁의아침2단지  12  14   11110-115  124.17   \n",
       "4         0  4100135  ...              경희궁 파크팰리스  12  24   11110-107  146.33   \n",
       "\n",
       "       지번   지역코드   층 해제사유발생일 해제여부  \n",
       "0       9  11110  11               \n",
       "1     145  11110   8               \n",
       "2  110-15  11110   6               \n",
       "3      71  11110   8               \n",
       "4      95  11110   4               \n",
       "\n",
       "[5 rows x 26 columns]"
      ]
     },
     "execution_count": 12,
     "metadata": {},
     "output_type": "execute_result"
    }
   ],
   "source": [
    "rowList=[]\n",
    "namaList=[]\n",
    "columnList=[]\n",
    "\n",
    "rowsLen = len(rows)\n",
    "for i in range(0, rowsLen):\n",
    "    columns=rows[i].find_all()\n",
    "    \n",
    "    columnsLen=len(columns)\n",
    "    for j in range(0, columnsLen):\n",
    "        if i == 0:\n",
    "            nameList.append(columns[j].name)\n",
    "        eachColumn = columns[j].text\n",
    "        columnList.append(eachColumn)\n",
    "    rowList.append(columnList)\n",
    "    columnList=[]\n",
    "    \n",
    "result = pd.DataFrame(rowList, columns=nameList)\n",
    "result.head()"
   ]
  },
  {
   "cell_type": "code",
   "execution_count": 13,
   "id": "b174b29c-cc94-45ec-a040-9ce24e20ba42",
   "metadata": {},
   "outputs": [],
   "source": [
    "#api_xml_ex_result_toCSV\n",
    "result.to_csv(\"3-1.아파트예제.csv\", encoding='cp949')"
   ]
  },
  {
   "cell_type": "code",
   "execution_count": null,
   "id": "3b9fd64e-3748-4ba9-bce7-ad8e44b38c09",
   "metadata": {},
   "outputs": [],
   "source": []
  }
 ],
 "metadata": {
  "kernelspec": {
   "display_name": "Python 3",
   "language": "python",
   "name": "python3"
  },
  "language_info": {
   "codemirror_mode": {
    "name": "ipython",
    "version": 3
   },
   "file_extension": ".py",
   "mimetype": "text/x-python",
   "name": "python",
   "nbconvert_exporter": "python",
   "pygments_lexer": "ipython3",
   "version": "3.8.8"
  }
 },
 "nbformat": 4,
 "nbformat_minor": 5
}
