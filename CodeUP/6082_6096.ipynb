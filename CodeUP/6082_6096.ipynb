{
  "nbformat": 4,
  "nbformat_minor": 0,
  "metadata": {
    "colab": {
      "name": "6082_6096.ipynb",
      "provenance": [],
      "authorship_tag": "ABX9TyPwU/offXN46Ulewew3L80L",
      "include_colab_link": true
    },
    "kernelspec": {
      "name": "python3",
      "display_name": "Python 3"
    },
    "language_info": {
      "name": "python"
    }
  },
  "cells": [
    {
      "cell_type": "markdown",
      "metadata": {
        "id": "view-in-github",
        "colab_type": "text"
      },
      "source": [
        "<a href=\"https://colab.research.google.com/github/lovegohome/TIL/blob/main/CodeUP/6082_6096.ipynb\" target=\"_parent\"><img src=\"https://colab.research.google.com/assets/colab-badge.svg\" alt=\"Open In Colab\"/></a>"
      ]
    },
    {
      "cell_type": "code",
      "metadata": {
        "colab": {
          "base_uri": "https://localhost:8080/"
        },
        "id": "fLeR1ZJnnxr8",
        "outputId": "f3796191-e91f-4b15-a57f-47fe202dd40a"
      },
      "source": [
        "# 6082. 3 6 9 게임의 왕이 되자\n",
        "a = int(input())\n",
        "\n",
        "for i in range (1, a+1):\n",
        "  if i%10==3 or i%10==6 or i%10==9:\n",
        "    print('X', end=' ')\n",
        "  else:\n",
        "    print(i, end=' ')\n",
        "# 30대에서는 적용이 안 됨. "
      ],
      "execution_count": 20,
      "outputs": [
        {
          "output_type": "stream",
          "text": [
            "9\n",
            "1 2 X 4 5 X 7 8 X "
          ],
          "name": "stdout"
        }
      ]
    },
    {
      "cell_type": "code",
      "metadata": {
        "colab": {
          "base_uri": "https://localhost:8080/"
        },
        "id": "FRUQx_tjwLZO",
        "outputId": "05272367-a014-40a3-e722-b0968744f73e"
      },
      "source": [
        "# 6083. 빛 섞어 색 만들기\n",
        "\n",
        "r, g, b = input().split()\n",
        "r=int(r)\n",
        "g=int(g)\n",
        "b=int(b)\n",
        "\n",
        "# 3중 for문\n",
        "for i in range(r):\n",
        "  for j in range(g):\n",
        "    for k in range(b):\n",
        "      print(i, j, k)\n",
        "\n",
        "print(r*g*b)"
      ],
      "execution_count": 24,
      "outputs": [
        {
          "output_type": "stream",
          "text": [
            "2 2 2\n",
            "0 0 0\n",
            "0 0 1\n",
            "0 1 0\n",
            "0 1 1\n",
            "1 0 0\n",
            "1 0 1\n",
            "1 1 0\n",
            "1 1 1\n",
            "8\n"
          ],
          "name": "stdout"
        }
      ]
    },
    {
      "cell_type": "code",
      "metadata": {
        "colab": {
          "base_uri": "https://localhost:8080/"
        },
        "id": "TqJM234v_TLU",
        "outputId": "7675d94c-b811-48a5-88da-d8ec0e43c50b"
      },
      "source": [
        "# 6084. 소리 파일 저장용량 계산하기\n",
        "\n",
        "h, b, c, s = input().split()\n",
        "h=int(h)\n",
        "b=int(b)\n",
        "c=int(c)\n",
        "s=int(s)\n",
        "\n",
        "stg = h*b*c*s/8/1024/1024\n",
        "\n",
        "print(\"%.1f MB\" %stg)\n",
        "# print(round(h*b*c*s/8/1024/1024, 1), \"MB\")\n",
        "# print(round(stg, 1), \"MB\")"
      ],
      "execution_count": 28,
      "outputs": [
        {
          "output_type": "stream",
          "text": [
            "44100 16 2 10\n",
            "1.7 MB\n",
            "1.7 MB\n"
          ],
          "name": "stdout"
        }
      ]
    },
    {
      "cell_type": "markdown",
      "metadata": {
        "id": "Fi3PtfevKRkZ"
      },
      "source": [
        "```\n",
        "   8 bit(비트)      = 1byte(바이트)       # 8bit=1Byte\n",
        "1024 Byte(210 byte) = 1KB(킬로 바이트)    # 1024Byte=1KB\n",
        "1024 KB(210 KB)     = 1MB(메가 바이트)\n",
        "1024 MB(210 MB)     = 1GB(기가 바이트)\n",
        "1024 GB(210 GB)     = 1TB(테라 바이트)\n",
        "```\n",
        "\n"
      ]
    },
    {
      "cell_type": "code",
      "metadata": {
        "colab": {
          "base_uri": "https://localhost:8080/"
        },
        "id": "JAwrGikTFAvN",
        "outputId": "b2c59309-82f6-448f-b661-3f3bc272d28b"
      },
      "source": [
        "# 6085. 그림 파일 저장용량 계산하기\n",
        "\n",
        "# 예를 들어 r, g, b 각 색에 대해서 \n",
        "# 8비트(0~255, 256가지 가능)씩을 사용한다고 하면, 1비트당 32가지?\n",
        "# 한 점의 색상은 3가지 r, g, b의 8비트+8비트+8비트로 총 24비트로 표현해서\n",
        "# 총 2^24 가지의 서로 다른 빛의 색깔을 사용할 수 있는 것이다.\n",
        "\n",
        "# 1024 * 768 사이즈에 각 점에 대해 24비트로 저장하면 \n",
        "# 그 이미지를 저장하기 위한 저장 용량을 계산할 수 있다.\n",
        "\n",
        "\n",
        "# 이렇게 이미지의 원래(raw) 데이터를 압축하지 않고 \n",
        "# 그대로 저장하는 대표적인 이미지 파일이 *.bmp 파일이며, \n",
        "# 비트로 그림을 구성한다고 하여 비트맵 방식 또는 래스터 방식이라고 한다.\n",
        "\n",
        "w, h, b = input().split()\n",
        "w=int(w)\n",
        "h=int(h)\n",
        "b=int(b)\n",
        "\n",
        "stg = w*h*b/8/1024/1024\n",
        "# print(round(stg, 2), \"MB\") # 100 100 4 : 0.0 MB\n",
        "print(\"{0:.2f} MB\".format(stg)) # 100 100 4 : 0.00 MB \n",
        "# 1024 768 24 : 둘 다 똑같이 나오는데. \n",
        "# 100 100 4 : 다르게 나옴. ???\n",
        "\n",
        "# 정답 제안\n",
        "# print('%.2f'%stg,\"MB\")\n"
      ],
      "execution_count": 35,
      "outputs": [
        {
          "output_type": "stream",
          "text": [
            "1024 768 24\n",
            "2.25 MB\n",
            "2.25 MB\n"
          ],
          "name": "stdout"
        }
      ]
    },
    {
      "cell_type": "code",
      "metadata": {
        "colab": {
          "base_uri": "https://localhost:8080/"
        },
        "id": "UKydznBihm3F",
        "outputId": "6245703b-9468-4988-e5ee-3bcac6d58007"
      },
      "source": [
        "# 6086. 거기까지! 이제 그만~\n",
        "\n",
        "a = int(input())\n",
        "sum = 0\n",
        "\n",
        "for i in range (1, a+1):\n",
        "  if sum < a: \n",
        "    sum += i\n",
        "\n",
        "print(sum)"
      ],
      "execution_count": 57,
      "outputs": [
        {
          "output_type": "stream",
          "text": [
            "57\n",
            "66\n"
          ],
          "name": "stdout"
        }
      ]
    },
    {
      "cell_type": "code",
      "metadata": {
        "colab": {
          "base_uri": "https://localhost:8080/"
        },
        "id": "70pR3LkQAxIt",
        "outputId": "a9f09d8f-6b83-4e17-ebf9-f3ccd66500f5"
      },
      "source": [
        "a = int(input())\n",
        "sum = 0\n",
        "n = 1\n",
        "\n",
        "while True:\n",
        "  sum += n\n",
        "  n += 1\n",
        "  if sum >= a: # 미만, 초과 조건이 없으면 넣어주기! \n",
        "    break\n",
        "\n",
        "print(sum)"
      ],
      "execution_count": 59,
      "outputs": [
        {
          "output_type": "stream",
          "text": [
            "57\n",
            "66\n"
          ],
          "name": "stdout"
        }
      ]
    },
    {
      "cell_type": "code",
      "metadata": {
        "colab": {
          "base_uri": "https://localhost:8080/"
        },
        "id": "w3cmCNcZAxGb",
        "outputId": "081e54f6-be2a-48c8-aca8-c24e8ec592db"
      },
      "source": [
        "# 6087\n",
        "\n",
        "a = int(input())\n",
        "sum = 0\n",
        "\n",
        "for i in range(1, a+1):\n",
        "  if i % 3 != 0:\n",
        "    print(i, end=' ')\n",
        "\n",
        "\n",
        "for i in range(1, n+1) : \n",
        "  if i%3==0 : \n",
        "    continue            #다음 반복 단계로 넘어간다. ~~ pass\n",
        "  print(i, end=' ')    #i가 짝수가 아닐 때만 실행된다."
      ],
      "execution_count": 61,
      "outputs": [
        {
          "output_type": "stream",
          "text": [
            "10\n",
            "1 2 4 5 7 8 10 "
          ],
          "name": "stdout"
        }
      ]
    },
    {
      "cell_type": "code",
      "metadata": {
        "colab": {
          "base_uri": "https://localhost:8080/"
        },
        "id": "o4egh47p7A4b",
        "outputId": "1adf4531-ad7a-4705-d185-f8dbae88a928"
      },
      "source": [
        "# 6088\n",
        "\n",
        "a, d, n = map(int, input().split()) \n",
        "\n",
        "print(a+d*(n-1))\n",
        "\n",
        "# 정답 제안\n",
        "# s=a\n",
        "# for i in range(2, n+1):\n",
        "#    s+=d\n",
        "\n",
        "# print(s)"
      ],
      "execution_count": 63,
      "outputs": [
        {
          "output_type": "stream",
          "text": [
            "1 3 5\n",
            "13\n"
          ],
          "name": "stdout"
        }
      ]
    },
    {
      "cell_type": "code",
      "metadata": {
        "colab": {
          "base_uri": "https://localhost:8080/"
        },
        "id": "XBL5ripbFIHW",
        "outputId": "60804356-242b-4b32-98ab-ef844e3e5c50"
      },
      "source": [
        "# 6089\n",
        "a, r, n = map(int, input().split())\n",
        "\n",
        "print(a*r**(n-1))\n",
        "\n",
        "# for i in range(1, n) :\n",
        "#   a = a*r\n",
        "\n",
        "# print(a)"
      ],
      "execution_count": 65,
      "outputs": [
        {
          "output_type": "stream",
          "text": [
            "2 3 7\n",
            "1458\n"
          ],
          "name": "stdout"
        }
      ]
    },
    {
      "cell_type": "code",
      "metadata": {
        "colab": {
          "base_uri": "https://localhost:8080/"
        },
        "id": "vFtt20qPGNmt",
        "outputId": "2c29b197-a666-41d2-ef3e-333bfb3e4852"
      },
      "source": [
        "# 6090\n",
        "\n",
        "a, m, d, n = map(int, input().split())\n",
        "\n",
        "\n",
        "for i in range(1, n): # n+1 아닌가? VVVVVVVVV !!!!!!!!!! \n",
        "\n",
        "  a = a*m+d\n",
        "\n",
        "print(a)"
      ],
      "execution_count": 69,
      "outputs": [
        {
          "output_type": "stream",
          "text": [
            "1 -2 1 8\n",
            "-85\n"
          ],
          "name": "stdout"
        }
      ]
    },
    {
      "cell_type": "code",
      "metadata": {
        "colab": {
          "base_uri": "https://localhost:8080/"
        },
        "id": "NjH43tTyHKUN",
        "outputId": "ff357538-d7fa-4a5b-be20-e10b8015ff09"
      },
      "source": [
        "# 6091  VVVVVVVV !!!! 기억!! \n",
        "\n",
        "a, b, c = map(int, input().split())\n",
        "\n",
        "d = 1\n",
        "while d%a != 0 or d%b != 0 or d%c != 0:\n",
        "  d += 1\n",
        "print(d)\n",
        "\n",
        "# 최소공배수"
      ],
      "execution_count": 76,
      "outputs": [
        {
          "output_type": "stream",
          "text": [
            "3 7 9\n",
            "63\n"
          ],
          "name": "stdout"
        }
      ]
    },
    {
      "cell_type": "code",
      "metadata": {
        "colab": {
          "base_uri": "https://localhost:8080/"
        },
        "id": "Ngwb_d2UcAoc",
        "outputId": "9b97dd2c-b195-41f8-d26e-f19a9cebcd2d"
      },
      "source": [
        "# 6092\n",
        "\n",
        "n = int(input())     #개수를 입력받아 n에 정수로 저장 # 몇 번 부를지\n",
        "a = list(map(int, input().split()))  # type: map => list\n",
        "#공백을 기준으로 잘라 a에 순서대로 저장 # 무작위로 부른 번호\n",
        "#a=input().split() : a에 이렇게는 list 선언 없이도 리스트처럼 들어감.\n",
        "# for i in range(n) : \n",
        "#   a[i] = int(a[i]) # a를 하나하나 int형으로 바꿔주는 작업\n",
        "\n",
        "d = []               #d라는 이름의 빈 리스트 [ ] 변수를 만듦. 대괄호 기호 [  ] 를 사용한다.\n",
        "for i in range(24) : #[0, 0, 0, ... , 0, 0, 0] 과 같이 24개의 정수 값 0을 추가해 넣음\n",
        "  d.append(0)        #각 값은 d[0], d[1], d[2], ... , d[22], d[23] 으로 값을 읽고 저장할 수 있음.\n",
        "\n",
        "for i in range(n) :    #번호를 부를 때마다, 그 번호에 대한 카운트 1씩 증가\n",
        "  d[a[i]] += 1\n",
        "\n",
        "for i in range(1, 24) :  #카운트한 값을 공백을 두고 출력\n",
        "  print(d[i], end=' ')\n"
      ],
      "execution_count": 84,
      "outputs": [
        {
          "output_type": "stream",
          "text": [
            "10 \n",
            "1 3 2 2 5 6 7 4 5 9\n",
            "1 2 1 1 2 1 1 0 1 0 0 0 0 0 0 0 0 0 0 0 0 0 0 "
          ],
          "name": "stdout"
        }
      ]
    },
    {
      "cell_type": "code",
      "metadata": {
        "colab": {
          "base_uri": "https://localhost:8080/"
        },
        "id": "DhIz6sUncvjA",
        "outputId": "8277892b-766d-4807-b3a5-b5f604431717"
      },
      "source": [
        "# 6093\n",
        "\n",
        "n = int(input())\n",
        "a = list(map(int, input().split()))\n",
        "\n",
        "# 정답 제안: 깔끔, 굳이 아래처럼 할 필요가 없었음.\n",
        "for i in range(n-1, -1, -1):\n",
        "  print(a[i], end=' ')\n",
        "\n",
        "\n",
        "# d=[]\n",
        "# for i in range(n-1, -1, -1): # 범위가 헷갈리네 VVVVVVVVVVVV !!!!! 아래 참고\n",
        "#   d.append(a[i])\n",
        "\n",
        "# # print('Checking:', d)\n",
        "\n",
        "# for i in range(n):\n",
        "#   print(d[i], end=' ')"
      ],
      "execution_count": 97,
      "outputs": [
        {
          "output_type": "stream",
          "text": [
            "10\n",
            "5 8 9 7 6 6 3 2 4 10\n",
            "10 4 2 3 6 6 7 9 8 5 "
          ],
          "name": "stdout"
        }
      ]
    },
    {
      "cell_type": "markdown",
      "metadata": {
        "id": "TdnSPXaSjKiC"
      },
      "source": [
        "참고\n",
        "- 번호를 부른 순서를 리스트에 순서대로 기록해 두었다가, 기록한 값들을 거꾸로 출력하면 된다.\n",
        "- range(시작, 끝, 증감) #시작 수는 포함, 끝 수는 포함하지 않음. [시작, 끝)\n",
        "- range(n-1, -1, -1) #n-1, n-2, ..., 3, 2, 1, 0"
      ]
    },
    {
      "cell_type": "code",
      "metadata": {
        "colab": {
          "base_uri": "https://localhost:8080/"
        },
        "id": "smWuO3-adJoQ",
        "outputId": "eb7cecb5-6eea-48f6-ba43-0063c2653d68"
      },
      "source": [
        "# 6094\n",
        "\n",
        "n = int(input())\n",
        "k = list(map(int, input().split()))\n",
        "\n",
        "# sort, [0]\n",
        "# a.sort()\n",
        "\n",
        "k.sort()\n",
        "print(k[0])\n",
        "\n",
        "# 정답 제안\n",
        "# min = a[0]\n",
        "# for i in range(0, n) :\n",
        "#   if a[i] < min :\n",
        "#     min = a[i]\n",
        "# print(min)"
      ],
      "execution_count": 98,
      "outputs": [
        {
          "output_type": "stream",
          "text": [
            "10\n",
            "10 4 2 3 6 6 7 9 8 5\n",
            "2\n"
          ],
          "name": "stdout"
        }
      ]
    },
    {
      "cell_type": "code",
      "metadata": {
        "colab": {
          "base_uri": "https://localhost:8080/"
        },
        "id": "5TXssbA0qkH7",
        "outputId": "bff49a3f-e2f0-4590-d711-4dbe746453c8"
      },
      "source": [
        "# 6095\n",
        "\n",
        "n = int(input())\n",
        "d=[]\n",
        "for i in range(n):\n",
        "  a = list(map(int, input().split()))\n",
        "  d.append(a)\n",
        "\n",
        "for i in range(1,5):\n",
        "  for j in range(1,20):\n",
        "    for w in d:\n",
        "      if [i, j] == w :\n",
        "        print('1', end=' ')\n",
        "      else:\n",
        "        print('0', end=' ')\n",
        "  print('\\n')\n"
      ],
      "execution_count": 106,
      "outputs": [
        {
          "output_type": "stream",
          "text": [
            "3\n",
            "1 1\n",
            "2 2\n",
            "3 3\n",
            "1 0 0 0 0 0 0 0 0 0 0 0 \n",
            "\n",
            "0 0 0 0 1 0 0 0 0 0 0 0 \n",
            "\n",
            "0 0 0 0 0 0 0 0 1 0 0 0 \n",
            "\n",
            "0 0 0 0 0 0 0 0 0 0 0 0 \n",
            "\n"
          ],
          "name": "stdout"
        }
      ]
    },
    {
      "cell_type": "code",
      "metadata": {
        "colab": {
          "base_uri": "https://localhost:8080/"
        },
        "id": "3LV23UQbsU4l",
        "outputId": "0efbfc81-5708-4260-969d-5620110b5ab4"
      },
      "source": [
        "# 6095. VVVVVVVVVVVVVVVVVVVVVV\n",
        "\n",
        "d=[]                        #대괄호 [ ] 를 이용해 아무것도 없는 빈 리스트 만들기\n",
        "for i in range(20): # 왜 여기선 range(1,20)으로 안하고\n",
        "  d.append([]) # d[i] = [[]] ????  #리스트 안에 다른 리스트 추가해 넣기\n",
        "  for j in range(20) : # 왜 여기선 range(1,20)으로 하면 왜 범위를 넘었다고 하지? \n",
        "    d[i].append(0)    #리스트 안에 들어있는 리스트 안에 0 추가해 넣기\n",
        "# d = [[0 for j in range(20)] for i in range(20)] # List Comprehensions\n",
        "\n",
        "n = int(input())\n",
        "for i in range(n) :\n",
        "  x, y = input().split()\n",
        "  d[int(x)][int(y)] = 1\n",
        "  #   x, y = map(int, input().split()) # 오 되네???? \n",
        "  #   d[x][y] = 1\n",
        "\n",
        "for i in range(1, 20) :\n",
        "  for j in range(1, 20) : \n",
        "    print(d[i][j], end=' ')    #공백을 두고 한 줄로 출력 # d[i][j] O, d[i, j] X\n",
        "  print()                          #줄 바꿈\n"
      ],
      "execution_count": 127,
      "outputs": [
        {
          "output_type": "stream",
          "text": [
            "5\n",
            "1 1\n",
            "2 2\n",
            "3 3\n",
            "4 4\n",
            "5 5\n",
            "1 0 0 0 0 0 0 0 0 0 0 0 0 0 0 0 0 0 0 \n",
            "0 1 0 0 0 0 0 0 0 0 0 0 0 0 0 0 0 0 0 \n",
            "0 0 1 0 0 0 0 0 0 0 0 0 0 0 0 0 0 0 0 \n",
            "0 0 0 1 0 0 0 0 0 0 0 0 0 0 0 0 0 0 0 \n",
            "0 0 0 0 1 0 0 0 0 0 0 0 0 0 0 0 0 0 0 \n",
            "0 0 0 0 0 0 0 0 0 0 0 0 0 0 0 0 0 0 0 \n",
            "0 0 0 0 0 0 0 0 0 0 0 0 0 0 0 0 0 0 0 \n",
            "0 0 0 0 0 0 0 0 0 0 0 0 0 0 0 0 0 0 0 \n",
            "0 0 0 0 0 0 0 0 0 0 0 0 0 0 0 0 0 0 0 \n",
            "0 0 0 0 0 0 0 0 0 0 0 0 0 0 0 0 0 0 0 \n",
            "0 0 0 0 0 0 0 0 0 0 0 0 0 0 0 0 0 0 0 \n",
            "0 0 0 0 0 0 0 0 0 0 0 0 0 0 0 0 0 0 0 \n",
            "0 0 0 0 0 0 0 0 0 0 0 0 0 0 0 0 0 0 0 \n",
            "0 0 0 0 0 0 0 0 0 0 0 0 0 0 0 0 0 0 0 \n",
            "0 0 0 0 0 0 0 0 0 0 0 0 0 0 0 0 0 0 0 \n",
            "0 0 0 0 0 0 0 0 0 0 0 0 0 0 0 0 0 0 0 \n",
            "0 0 0 0 0 0 0 0 0 0 0 0 0 0 0 0 0 0 0 \n",
            "0 0 0 0 0 0 0 0 0 0 0 0 0 0 0 0 0 0 0 \n",
            "0 0 0 0 0 0 0 0 0 0 0 0 0 0 0 0 0 0 0 \n"
          ],
          "name": "stdout"
        }
      ]
    },
    {
      "cell_type": "code",
      "metadata": {
        "id": "R1bpxBFu0c1a"
      },
      "source": [
        "# 6096\n"
      ],
      "execution_count": null,
      "outputs": []
    }
  ]
}