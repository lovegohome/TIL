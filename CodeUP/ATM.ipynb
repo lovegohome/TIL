{
  "nbformat": 4,
  "nbformat_minor": 0,
  "metadata": {
    "colab": {
      "name": "ATM.ipynb",
      "provenance": [],
      "authorship_tag": "ABX9TyM2kZ6vGCwPKQx9/c2LpTAc",
      "include_colab_link": true
    },
    "kernelspec": {
      "name": "python3",
      "display_name": "Python 3"
    },
    "language_info": {
      "name": "python"
    }
  },
  "cells": [
    {
      "cell_type": "markdown",
      "metadata": {
        "id": "view-in-github",
        "colab_type": "text"
      },
      "source": [
        "<a href=\"https://colab.research.google.com/github/lovegohome/TIL/blob/main/CodeUP/ATM.ipynb\" target=\"_parent\"><img src=\"https://colab.research.google.com/assets/colab-badge.svg\" alt=\"Open In Colab\"/></a>"
      ]
    },
    {
      "cell_type": "code",
      "metadata": {
        "id": "SsrN3lFn_MVP"
      },
      "source": [
        "# greedy\n",
        "# 11399_ATM.py\n",
        "\n",
        "N = int(input())\n",
        "a = list(map(int, input().split())) ###\n",
        "\n",
        "a.sort()\n",
        "sum=0\n",
        "\n",
        "for i in range(N):\n",
        "  sum += a[i]*(N-i)\n",
        "\n",
        "print(sum)\n",
        "\n",
        "# p=[]\n",
        "# for i in range(N):\n",
        "#   p.append([])\n",
        "#   p[i]=int(input())\n",
        "\n",
        "# for i in range(N):\n",
        "#   p.append(int(input())) \n",
        "\n",
        "# ----------잘못된 코드--------\n",
        "# N = int(input())\n",
        "# p=[]\n",
        "# for i in range(N):\n",
        "#   p[i] = int(input())"
      ],
      "execution_count": null,
      "outputs": []
    },
    {
      "cell_type": "code",
      "metadata": {
        "id": "Z_K1HYjS_Qlt"
      },
      "source": [
        "# KYH \n",
        "# for문을 직접 만들어 봄\n",
        "\n",
        "lenght = int(input())\n",
        "array = list(map(int, input().split()))\n",
        "count = [0] * (max(array) + 1)\n",
        "cnt = 0\n",
        "total = 0\n",
        "\n",
        "for i in range(len(array)) :\n",
        "  count[array[i]] += 1\n",
        "  print(count)\n",
        "\n",
        "for i in range(len(count)) :\n",
        "  for j in range(count[i]) :\n",
        "    total += i * (lenght - cnt)\n",
        "    cnt += 1\n",
        "    print(total, cnt)\n",
        "\n",
        "print(total)\n"
      ],
      "execution_count": null,
      "outputs": []
    },
    {
      "cell_type": "code",
      "metadata": {
        "id": "ly7UMmsB_Skj"
      },
      "source": [
        "# PKB\n",
        "\n",
        "n = int(input())\n",
        "p = list(map(int, input().split()))\n",
        "count = n\n",
        "sum = 0\n",
        "p.sort()\n",
        "for i in range(n):\n",
        "    sum += p[i] * count\n",
        "    count -= 1\n",
        "print(sum)\n"
      ],
      "execution_count": null,
      "outputs": []
    },
    {
      "cell_type": "code",
      "metadata": {
        "id": "ISPbfrk7_THD"
      },
      "source": [
        "# LHB\n",
        "\n",
        "n = int(input())\n",
        "time = 0\n",
        "total = 0\n",
        "a = list(map(int,input().split()))\n",
        "a.sort()\n",
        "for i in range(n):\n",
        "    time += a[i]\n",
        "    total += time\n",
        "print(total) "
      ],
      "execution_count": null,
      "outputs": []
    },
    {
      "cell_type": "code",
      "metadata": {
        "colab": {
          "base_uri": "https://localhost:8080/"
        },
        "id": "iUKLVLUUC_X8",
        "outputId": "4a0c7545-7816-47bf-985f-af5ae4fa4d28"
      },
      "source": [
        "# greedy\n",
        "# 14241_슬라임 합치기.py\n",
        "\n",
        "n=int(input())\n",
        "a=list(map(int, input().split()))\n",
        "a.sort()\n",
        "\n",
        "w = a[n-1] + a[n-2]\n",
        "score = a[n-1]*a[n-2]\n",
        "\n",
        "if (n-2) > 0 :\n",
        "  for i in range (n-2,0,-1): # -1을 넣고 안 넣고 차이가 있네?\n",
        "    score += a[i-1] * w\n",
        "    w += a[i-1]\n",
        "\n",
        "print(score)\n",
        "\n",
        "\n",
        "# s1 = a[n-1] + a[n-2]\n",
        "# score = a[n-1] * a[n-2]\n",
        "\n",
        "# s2 = a[n-3] + s1\n",
        "# score += a[n-3] * s1\n",
        "\n",
        "# s3 = a[n-4] + s2\n",
        "# score += a[n-4]*s2\n",
        "\n",
        "# x, y = map(int, input().split())\n",
        "# 4 / 2.5.7.9 => 185 "
      ],
      "execution_count": 20,
      "outputs": [
        {
          "output_type": "stream",
          "text": [
            "2 \n",
            "1 3\n"
          ],
          "name": "stdout"
        },
        {
          "output_type": "execute_result",
          "data": {
            "text/plain": [
              "3"
            ]
          },
          "metadata": {
            "tags": []
          },
          "execution_count": 20
        }
      ]
    },
    {
      "cell_type": "code",
      "metadata": {
        "id": "pNSN6v88DFVS"
      },
      "source": [
        "# greedy\n",
        "# 1541_잃어버린 괄호.py"
      ],
      "execution_count": null,
      "outputs": []
    },
    {
      "cell_type": "markdown",
      "metadata": {
        "id": "nt8uPcdydhcr"
      },
      "source": [
        "- 세준이는 양수와 +, -, 그리고 괄호를 가지고 식을 만들었다. 그리고 나서 세준이는 괄호를 모두 지웠다.\n",
        "그리고 나서 세준이는 괄호를 적절히 쳐서 이 식의 값을 최소로 만들려고 한다.\n",
        "괄호를 적절히 쳐서 이 식의 값을 최소로 만드는 프로그램을 작성하시오.\n",
        "\n",
        "- 첫째 줄에 식이 주어진다. 식은 ‘0’~‘9’, ‘+’, 그리고 ‘-’만으로 이루어져 있고, 가장 처음과 마지막 문자는 숫자이다. 그리고 연속해서 두 개 이상의 연산자가 나타나지 않고, 5자리보다 많이 연속되는 숫자는 없다. 수는 0으로 시작할 수 있다. 입력으로 주어지는 식의 길이는 50보다 작거나 같다.\n",
        "- 55-50+40 = -35"
      ]
    }
  ]
}