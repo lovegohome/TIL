{
  "nbformat": 4,
  "nbformat_minor": 0,
  "metadata": {
    "colab": {
      "name": "6061_6070.ipynb",
      "provenance": [],
      "authorship_tag": "ABX9TyNbpX3UMJySnMDaT24sSYJC",
      "include_colab_link": true
    },
    "kernelspec": {
      "name": "python3",
      "display_name": "Python 3"
    },
    "language_info": {
      "name": "python"
    }
  },
  "cells": [
    {
      "cell_type": "markdown",
      "metadata": {
        "id": "view-in-github",
        "colab_type": "text"
      },
      "source": [
        "<a href=\"https://colab.research.google.com/github/lovegohome/TIL/blob/main/CodeUP/6061_6070.ipynb\" target=\"_parent\"><img src=\"https://colab.research.google.com/assets/colab-badge.svg\" alt=\"Open In Colab\"/></a>"
      ]
    },
    {
      "cell_type": "markdown",
      "metadata": {
        "id": "SkyTiAUYEBzv"
      },
      "source": [
        "- & (and): 둘 다 참일 때만 참\n",
        "- | (or) : 둘 중 하나만 참이어도 참\n",
        "- ^ (xor): 둘 중 하나만 참일 때만 참\n",
        "- a << n : 왼쪽으로 n번 이동\n",
        "- a >> n : 오른쪽으로 n번 이동\n",
        "- ~ (not)"
      ]
    },
    {
      "cell_type": "code",
      "metadata": {
        "colab": {
          "base_uri": "https://localhost:8080/"
        },
        "id": "dxp2tgKn6y7e",
        "outputId": "57ce9bf4-2474-49ea-d715-99aad7bbfd9d"
      },
      "source": [
        "# 6061\n",
        "# 입력된 정수 두 개를 비트단위로 or 연산한 후 그 결과를 정수로 출력해보자.\n",
        "# 비트단위(bitwise) 연산자 |(or, vertical bar, 버티컬바)를 사용하면 된다.\n",
        "\n",
        "\n",
        "# 정수 두 개를 입력\n",
        "a, b = input().split()\n",
        "a=int(a)\n",
        "b=int(b)\n",
        "\n",
        "# 두 개의 정수를 비트단위로 만들기\n",
        "# 필요가 없었다. \n",
        "\n",
        "# or 연산\n",
        "c=a|b\n",
        "\n",
        "# 결과 값 출력 \n",
        "print(c)\n"
      ],
      "execution_count": 3,
      "outputs": [
        {
          "output_type": "stream",
          "text": [
            "3 5\n",
            "7\n"
          ],
          "name": "stdout"
        }
      ]
    },
    {
      "cell_type": "code",
      "metadata": {
        "colab": {
          "base_uri": "https://localhost:8080/"
        },
        "id": "B7ZTBRdSAesW",
        "outputId": "5ea5384e-fb9e-4086-f384-6d222dcc07ff"
      },
      "source": [
        "#6062\n",
        "# 입력된 정수 두 개를 비트단위로 xor 연산한 후 그 결과를 정수로 출력해보자.\n",
        "# 비트단위(bitwise) 연산자 ^(xor, circumflex/caret, 서컴플렉스/카릿)를 사용하면 된다.\n",
        "\n",
        "a, b = input().split()\n",
        "a=int(a)\n",
        "b=int(b)\n",
        "c=a^b\n",
        "\n",
        "print(c)\n",
        "\n",
        "# 구체적으로 설명하자면,\n",
        "# 두 장의 이미지가 겹쳐졌을 때 색이 서로 다른 부분만 처리할 수 있다.\n",
        "# 배경이 되는 그림과 배경 위에서 움직이는 그림이 있을 때,\n",
        "# 두 그림에서 차이만 골라내 배경 위에서 움직이는 그림의 색으로 바꿔주면\n",
        "# 전체 그림을 구성하는 모든 점들의 색을 다시 계산해 입히지 않고\n",
        "# 보다 효과적으로 그림을 처리할 수 있게 되는 것이다.\n",
        "# 비행기 슈팅게임 등을 상상해보면 된다."
      ],
      "execution_count": 5,
      "outputs": [
        {
          "output_type": "stream",
          "text": [
            "3 5\n",
            "6\n"
          ],
          "name": "stdout"
        }
      ]
    },
    {
      "cell_type": "code",
      "metadata": {
        "colab": {
          "base_uri": "https://localhost:8080/"
        },
        "id": "K232DaILGnXV",
        "outputId": "de00dec1-51f8-42de-881d-1b8aa90ca899"
      },
      "source": [
        "#6063\n",
        "a, b = input().split()\n",
        "a=int(a)\n",
        "b=int(b)\n",
        "\n",
        "# 3항 연산\n",
        "#c = (a if a>b else b)\n",
        "c = a if a>=b else b\n",
        "\n",
        "# if a > b :\n",
        "#   print(a)\n",
        "# elif a < b :\n",
        "#   print(b)\n",
        "\n",
        "print(c)\n",
        "type(c)\n",
        "\n",
        "# c = (a if (a>=b) else b)\n",
        "# print(int(c)) ....... 여기서 굳이 int 안넣어줘도 됨."
      ],
      "execution_count": 17,
      "outputs": [
        {
          "output_type": "stream",
          "text": [
            "5 55\n",
            "55\n"
          ],
          "name": "stdout"
        },
        {
          "output_type": "execute_result",
          "data": {
            "text/plain": [
              "int"
            ]
          },
          "metadata": {
            "tags": []
          },
          "execution_count": 17
        }
      ]
    },
    {
      "cell_type": "markdown",
      "metadata": {
        "id": "1AkzeuY3HPOG"
      },
      "source": [
        "3개의 요소로 이루어지는 3항 연산은\n",
        "\"x if C else y\" 의 형태로 작성이 된다.\n",
        "- C : True 또는 False 를 평가할 조건식(conditional expression) 또는 값\n",
        "- x : C의 평가 결과가 True 일 때 사용할 값\n",
        "- y : C의 평가 결과가 True 가 아닐 때 사용할 값"
      ]
    },
    {
      "cell_type": "code",
      "metadata": {
        "colab": {
          "base_uri": "https://localhost:8080/"
        },
        "id": "UkLin1HNGC_G",
        "outputId": "d1de6fed-074d-4b98-e160-127d1c07ef42"
      },
      "source": [
        "#6064\n",
        "# 입력된 세 정수 a, b, c 중 가장 작은 값을 출력하는 프로그램을 작성해보자.\n",
        "# 단, 3항 연산을 사용한다.\n",
        "\n",
        "a,b,c=input().split()\n",
        "a=int(a)\n",
        "b=int(b)\n",
        "c=int(c)\n",
        "\n",
        "# d = n if X else y\n",
        "\n",
        "x = a if a<b else b\n",
        "y = x if x<c else c \n",
        "# x = (a if a < b else b) if ((a if a < b else b) < c ) else c\n",
        "\n",
        "print(y)"
      ],
      "execution_count": 20,
      "outputs": [
        {
          "output_type": "stream",
          "text": [
            "3 1 2\n",
            "1\n"
          ],
          "name": "stdout"
        }
      ]
    },
    {
      "cell_type": "markdown",
      "metadata": {
        "id": "ijNdc_wzMNCo"
      },
      "source": [
        "참고\n",
        "- 프로그래밍언어 소스코드 작성시 모든 요소들은\n",
        "  1. 순서에 따라 한 단계씩 실행\n",
        "  2. 미리 정해진 순서에 따라 하나씩 연산 수행\n",
        "  3. 그 때까지 연산된 결과를 이용해 다시 순서에 따라 하나씩 연산.. 등의 원리가 적용된다.\n",
        "\n",
        "- 따라서 3항 연산을 중첩해(괄호로 묶는 등..) 이용하면 여러 값들을 순서대로 비교해 가장 큰/작은 값을 계산할 수 있다. 예를 들어\n",
        "  - (a if a>b else b) if ((a if a>b else b)>c) else c\n",
        "- 위와 같은 계산식은 a, b, c 의 값 중 가장 큰 값으로 계산된다.\n",
        "- “연산자 우선순위”를 검색하면 우선순위와 결합방향이 나온다.\n",
        "예를 들어 변수에 어떤 값을 대입하는 대입(assign) 연산자 = 의 우선순위는 가장 낮고, 오른쪽에서 왼쪽의 결합방향을 가진다.\n",
        "- 3항 연산은 자주 사용되지는 않지만,\n",
        "복잡한 계산식이나 조건 처리, 비교 구조를 간단히 표현할 수 있게 해준다."
      ]
    },
    {
      "cell_type": "code",
      "metadata": {
        "colab": {
          "base_uri": "https://localhost:8080/"
        },
        "id": "Yej4PFH6MDLz",
        "outputId": "ce0b1ffa-551a-4c03-b3eb-62861546242a"
      },
      "source": [
        "# 6065\n",
        "# 3개의 정수(a, b, c)가 입력되었을 때, 짝수만 출력해보자.\n",
        "\n",
        "a,b,c=input().split()\n",
        "a=int(a)\n",
        "b=int(b)\n",
        "c=int(c)\n",
        "\n",
        "n =[]\n",
        "for i in (a, b, c):\n",
        "  if i % 2 == 0:\n",
        "    n.append(i)\n",
        "\n",
        "for i in n:\n",
        "  print(i)"
      ],
      "execution_count": 23,
      "outputs": [
        {
          "output_type": "stream",
          "text": [
            "2 4 6\n",
            "2\n",
            "4\n",
            "6\n"
          ],
          "name": "stdout"
        }
      ]
    },
    {
      "cell_type": "markdown",
      "metadata": {
        "id": "Td2R9sy5bulU"
      },
      "source": [
        "if a%2==0 : #a가 짝수라면 ... \n",
        "와 같은 의미가 된다. 짝수가 아니라면 들여쓰기로 작성된 부분들은 실행되지 않는다. "
      ]
    },
    {
      "cell_type": "code",
      "metadata": {
        "colab": {
          "base_uri": "https://localhost:8080/"
        },
        "id": "INRKQHW2a287",
        "outputId": "f4cf4251-092d-4a78-a4d6-1c6509c8d2f9"
      },
      "source": [
        "# 6066\n",
        "# 3개의 정수(a, b, c)가 입력되었을 때, 짝(even)/홀(odd)을 출력해보자.\n",
        "a,b,c=input().split()\n",
        "a=int(a)\n",
        "b=int(b)\n",
        "c=int(c)\n",
        "\n",
        "for i in (a,b,c):\n",
        "  if i%2 ==0:\n",
        "    print(\"even\")\n",
        "  else:\n",
        "    print(\"odd\")"
      ],
      "execution_count": 26,
      "outputs": [
        {
          "output_type": "stream",
          "text": [
            "1 2 8\n",
            "odd\n",
            "even\n",
            "even\n"
          ],
          "name": "stdout"
        }
      ]
    },
    {
      "cell_type": "code",
      "metadata": {
        "colab": {
          "base_uri": "https://localhost:8080/"
        },
        "id": "_-ldBkroca-P",
        "outputId": "aa355080-896d-4cc1-beaf-0759e18fa9ac"
      },
      "source": [
        "# 6067\n",
        "# 0이 아닌 정수 1개가 입력되었을 때, 음(-)/양(+)과 짝(even)/홀(odd)을 구분해 분류해보자.\n",
        "# 음수이면서 짝수이면 A, 음수이면서 홀수이면, B\n",
        "# 양수이면서 짝수이면 C, 양수이면서 홀수이면 D를 출력한다.\n",
        "\n",
        "n = int(input()) # 무의식중에 ..split()을 쓰고, int를 뺐음. 주의!!!!!\n",
        "\n",
        "# if n < 0 :\n",
        "#   if n % 2 == 0:\n",
        "#     print(\"A\")\n",
        "#   else:\n",
        "#     print(\"B\")\n",
        "# elif n > 0 :\n",
        "#   if n % 2 == 0:\n",
        "#     print(\"C\")\n",
        "#   else:\n",
        "#     print(\"D\")\n",
        "\n",
        "# / 중첩 조건문으로 풀기\n",
        "if n < 0 and n % 2 == 0: print(\"A\")\n",
        "elif n <0 and n % 2 != 0: print(\"B\")\n",
        "elif n > 0 and n % 2 == 0: print(\"C\")\n",
        "elif n > 0 and n % 2 != 0: print(\"D\")"
      ],
      "execution_count": 44,
      "outputs": [
        {
          "output_type": "stream",
          "text": [
            "55\n",
            "D\n"
          ],
          "name": "stdout"
        }
      ]
    },
    {
      "cell_type": "markdown",
      "metadata": {
        "id": "x7S9T2ueeWiL"
      },
      "source": [
        "참고\n",
        "- 조건/선택 실행구조 안에 다시 조건/선택 실행구조를 \"중첩\"할 수가 있다.\n",
        "- 또한, 중첩된 조건은 아래와 같이 논리연산자(not, and, or)를 이용해 합쳐 표현할 수도 있다.\n",
        "  - if (n<0) and (n%2==0) :\n",
        "    print('A')\n",
        "- 비교연산(<, >, <=, >=, ==, !=) 의 계산 결과는 True 또는 False 의 불(boolean) 값이고,\n",
        "불 값들 사이의 논리연산(not, and, or)의 결과도 True 또는 False 의 불 값이다."
      ]
    },
    {
      "cell_type": "markdown",
      "metadata": {
        "id": "YT59yA6hhqHO"
      },
      "source": [
        "\n",
        "\n",
        "```\n",
        "if n>=90 :\n",
        "  print('A')\n",
        "else :\n",
        "  if n>=70 :\n",
        "    print('B')\n",
        "  else :\n",
        "    if n>=40 :\n",
        "      print('C')\n",
        "    else :\n",
        "      print('D')\n",
        "```\n",
        "- 여러 조건들을 순서대로 비교하면서 처리하기 위해서 조건문을 여러 번 중첩할 수 있다.\n",
        "- 위와 같이 조건/선택 실행 구조를 겹쳐 작성하면 순서대로 조건을 검사할 수 있다.\n",
        "어떤 조건이 참이면 그 부분의 내용을 실행하고 전체 조건/선택 구조를 빠져나가게 된다.\n",
        "\n",
        "\n",
        "```\n",
        "if 조건식1 : \n",
        "  ... \n",
        "elif 조건식2 : \n",
        "  ... \n",
        "elif 조건식3 : \n",
        "  ... \n",
        "else : \n",
        "```\n",
        "- 이도 똑같은 기능을 한다. elif는 else if 의 짧은 약어라고 생각해도 된다.\n",
        "elif 를 사용하면 if ... else ... 구조를 겹쳐 사용할 때처럼, 여러 번 안 쪽으로 들여쓰기 하지 않아도 된다.\n"
      ]
    },
    {
      "cell_type": "code",
      "metadata": {
        "colab": {
          "base_uri": "https://localhost:8080/"
        },
        "id": "2RLyPiI0dyn5",
        "outputId": "b27c56f8-9c20-45da-d4f0-f2ce5fb59af9"
      },
      "source": [
        "# 6068\n",
        "# 점수(정수, 0 ~ 100)를 입력받아 평가를 출력해보자.\n",
        "# 평가 기준\n",
        "#  점수 범위 : 평가\n",
        "#  90 ~  100 : A\n",
        "#  70 ~   89 : B\n",
        "#  40 ~   69 : C\n",
        "#   0 ~   39 : D\n",
        "# 로 평가되어야 한다.\n",
        "\n",
        "a = int(input())\n",
        "\n",
        "if 90 <= a <=100: print(\"A\")\n",
        "elif 70 <= a <= 89: print(\"B\")\n",
        "elif 40 <= a <= 69: print(\"C\")\n",
        "elif 0<= a <=39: print(\"D\")\n",
        "\n",
        "# 정답 제안\n",
        "# if a>=90: print(\"A\")\n",
        "# elif a>=70: print(\"B\")\n",
        "# elif a>=40: print(\"C\")\n",
        "# else: print(\"D\")"
      ],
      "execution_count": 45,
      "outputs": [
        {
          "output_type": "stream",
          "text": [
            "34\n",
            "D\n"
          ],
          "name": "stdout"
        }
      ]
    },
    {
      "cell_type": "code",
      "metadata": {
        "colab": {
          "base_uri": "https://localhost:8080/"
        },
        "id": "mAwSF98ogYT0",
        "outputId": "b1cb3cc5-a9f6-43a8-d295-70d4520e0477"
      },
      "source": [
        "# 6069\n",
        "# 평가를 문자(A, B, C, D, ...)로 입력받아 내용을 다르게 출력해보자.\n",
        "# 평가 내용\n",
        "# 평가 : 내용\n",
        "# A : best!!!\n",
        "# B : good!!\n",
        "# C : run!\n",
        "# D : slowly~\n",
        "# 나머지 문자들 : what?\n",
        "\n",
        "a = input()\n",
        "\n",
        "if a == 'A': print(\"best!!!\")\n",
        "elif a == 'B' : print(\"good!!\")\n",
        "elif a == 'C' : print(\"run!\")\n",
        "elif a == 'D' : print('slowly~')\n",
        "else: print(\"what?\")"
      ],
      "execution_count": 48,
      "outputs": [
        {
          "output_type": "stream",
          "text": [
            "C\n",
            "run!\n"
          ],
          "name": "stdout"
        }
      ]
    },
    {
      "cell_type": "code",
      "metadata": {
        "colab": {
          "base_uri": "https://localhost:8080/"
        },
        "id": "LSvRtSO-jhCr",
        "outputId": "c3b525b8-99e5-4654-cb6c-255f41590e14"
      },
      "source": [
        "# 6070\n",
        "# 월이 입력될 때 계절 이름이 출력되도록 해보자.\n",
        "# 월 : 계절 이름\n",
        "#  12, 1, 2 : winter\n",
        "#   3, 4, 5 : spring\n",
        "#   6, 7, 8 : summer\n",
        "# 9, 10, 11 : fall\n",
        "\n",
        "a=int(input())\n",
        "\n",
        "if 3<= a <=5: print(\"spring\")\n",
        "elif 6<= a <=8: print(\"summer\")\n",
        "elif 9<= a <=11: print(\"fall\")\n",
        "elif 1<= a <=2 or a == 12 : print(\"winter\")\n",
        "\n",
        "# 정답 제안\n",
        "# if a//3==1: print(\"spring\")\n",
        "# elif a//3==2: print(\"summer\")\n",
        "# elif a//3==3: print(\"fall\")\n",
        "# else: print(\"winter\")"
      ],
      "execution_count": 54,
      "outputs": [
        {
          "output_type": "stream",
          "text": [
            "5\n",
            "spring\n"
          ],
          "name": "stdout"
        }
      ]
    },
    {
      "cell_type": "markdown",
      "metadata": {
        "id": "PRdvMKWLkrKB"
      },
      "source": [
        "참고\n",
        "- 때때로 수들의 특징을 관찰하고 이용하면 매우 간단히 해결할 수도 있다.\n",
        "- ex) if n//3==1 : print(\"spring\")"
      ]
    },
    {
      "cell_type": "code",
      "metadata": {
        "id": "VcOFlYqWkieM"
      },
      "source": [
        ""
      ],
      "execution_count": null,
      "outputs": []
    }
  ]
}