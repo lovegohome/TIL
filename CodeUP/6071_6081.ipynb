{
  "nbformat": 4,
  "nbformat_minor": 0,
  "metadata": {
    "colab": {
      "name": "6071_6081.ipynb",
      "provenance": [],
      "authorship_tag": "ABX9TyOg2j0+Z20ApIpPKOmNSDXp",
      "include_colab_link": true
    },
    "kernelspec": {
      "name": "python3",
      "display_name": "Python 3"
    },
    "language_info": {
      "name": "python"
    }
  },
  "cells": [
    {
      "cell_type": "markdown",
      "metadata": {
        "id": "view-in-github",
        "colab_type": "text"
      },
      "source": [
        "<a href=\"https://colab.research.google.com/github/lovegohome/TIL/blob/main/CodeUP/6071_6081.ipynb\" target=\"_parent\"><img src=\"https://colab.research.google.com/assets/colab-badge.svg\" alt=\"Open In Colab\"/></a>"
      ]
    },
    {
      "cell_type": "code",
      "metadata": {
        "id": "M72ABk5yJTXy"
      },
      "source": [
        "# 6071 \n",
        "\n",
        "# 임의의 정수가 줄을 바꿔 계속 입력된다.\n",
        "# -2147483648 ~ +2147483647, 단 개수는 알 수 없다.\n",
        "# 0이 아니면 입력된 정수를 출력하고, 0이 입력되면 출력을 중단해보자.\n",
        "\n",
        "n = 1\n",
        "while n != 0:\n",
        "  n = int(input())\n",
        "  if n != 0:\n",
        "    print(n)"
      ],
      "execution_count": null,
      "outputs": []
    },
    {
      "cell_type": "markdown",
      "metadata": {
        "id": "q9bb7jCNJc7Q"
      },
      "source": [
        "참고\n",
        "- if 조건식 : 구조를 사용하면,\n",
        "주어진 조건식의 평가 결과가 True 인 경우에만, 들여쓰기로 구분된 코드블록이 실행된다.\n",
        "- while 조건식 : \n",
        "  1. 조건식을 평가한다.\n",
        "  2. True 인 경우 코드블록을 실행한다.\n",
        "  3. 다시 조건식을 평가한다.\n",
        "  4. True 인 경우 코드블록을 실행한다.\n",
        "  - 조건식의 평가 값이 False 인 경우 반복을 중단하고, 그 다음 명령을 실행한다.\n",
        "  - 조건식의 평가 결과가 True 동안만 반복 실행된다. \n",
        "- 정답\n",
        "```\n",
        "while True:\n",
        "  a = int(input())\n",
        "  if a == 0:\n",
        "    break\n",
        "  else:\n",
        "    print(a)\n",
        "```"
      ]
    },
    {
      "cell_type": "code",
      "metadata": {
        "colab": {
          "base_uri": "https://localhost:8080/"
        },
        "id": "-t50o-iXSyp4",
        "outputId": "d1eb5062-7e5d-4abd-9481-6a096bcac549"
      },
      "source": [
        "# 6072\n",
        "# 정수(1 ~ 100) 1개가 입력되었을 때 카운트다운을 출력해보자.\n",
        "# while 조건식 : 반복 실행구조를 사용해 보자.\n",
        "\n",
        "n = int(input())\n",
        "\n",
        "while n != 0:\n",
        "  print(n)\n",
        "  n -= 1\n",
        "\n",
        "# 다른 방법 \n",
        "# for i in range(n, 0, -1):\n",
        "#     print(i)"
      ],
      "execution_count": 7,
      "outputs": [
        {
          "output_type": "stream",
          "text": [
            "5\n",
            "5\n",
            "4\n",
            "3\n",
            "2\n",
            "1\n"
          ],
          "name": "stdout"
        }
      ]
    },
    {
      "cell_type": "markdown",
      "metadata": {
        "id": "HVB1fYL6SxjR"
      },
      "source": [
        "복합대입연산자\n",
        "- [n = n-1] = [ n -= 1]\n",
        "- 산술연산자(+, -, *, / ... )와 대입 연산자(=)를 함께 쓰는 것을 복합대입연산자라고도 부른다.\n",
        "- 같은 방법으로 `+=, *=, /=, //=, %=, &=, |=, ^=, >>=, <<=, **=` 등과 같이 짧게 작성할 수 있다.\n"
      ]
    },
    {
      "cell_type": "code",
      "metadata": {
        "id": "57rbySkpWs_s"
      },
      "source": [
        "# 6073\n",
        "# 정수(1 ~ 100) 1개가 입력되었을 때 카운트다운을 출력해보자.\n",
        "# while 조건식 : 반복 실행구조를 사용해 보자.\n",
        "\n",
        "n = int(input())\n",
        "\n",
        "while n != 0:\n",
        "  print(n-1)\n",
        "  n -= 1\n",
        "\n",
        "# 정답 제안\n",
        "# while a!=0:\n",
        "#     a=a-1\n",
        "#     print(a)"
      ],
      "execution_count": null,
      "outputs": []
    },
    {
      "cell_type": "code",
      "metadata": {
        "colab": {
          "base_uri": "https://localhost:8080/"
        },
        "id": "m2YOJVvmYUbR",
        "outputId": "de1a81c8-6a3e-473c-a937-bc4c4cf5a63f"
      },
      "source": [
        "# 6074\n",
        "# 영문 소문자(a ~ z) 1개가 입력되었을 때, \n",
        "# a부터 그 문자까지의 알파벳을 순서대로 출력해보자.\n",
        "\n",
        "# 왠지 아스키코드, 유니코드 입력을 해야 하는 것 같다. \n",
        "\n",
        "# 내 풀이\n",
        "# while True:\n",
        "#   n = ord(input())\n",
        "#   for i in range (97, n+1):\n",
        "#     print(chr(i), end = ' ')\n",
        "#   break\n",
        "\n",
        "c = ord(input())\n",
        "n = ord('a') # 알파벳을 [' ']으로 안에 넣어서 줘야 함. \n",
        "\n",
        "while n <= c:\n",
        "  print(chr(n), end=' ') # chr, end 기억!! \n",
        "  n += 1\n",
        "\n",
        "\n",
        "# 정답 제안\n",
        "# c = ord(input())\n",
        "# t = ord('a')\n",
        "# while t<=c :\n",
        "#   print(chr(t), end=' ')\n",
        "#   t += 1"
      ],
      "execution_count": 19,
      "outputs": [
        {
          "output_type": "stream",
          "text": [
            "f\n",
            "a b c d e f "
          ],
          "name": "stdout"
        }
      ]
    },
    {
      "cell_type": "markdown",
      "metadata": {
        "id": "Mk_cp2EicQss"
      },
      "source": [
        "참고\n",
        "- 알파벳 문자 a의 정수값은 ord('a')로 알아낼 수 있다.\n",
        "- chr(정수값)을 이용하면 유니코드 문자로 출력할 수 있다.\n",
        "- print(..., end=' ') 와 같이 작성하면 값 출력 후 공백문자 ' '를 출력한다. 즉, 마지막에 줄을 바꾸지 않고 빈칸만 띄운다.\n",
        "- (end='\\n'로 작성하거나 생략하면, 값을 출력한 후 마지막(end)에 줄바꿈(newline)이 된다.)"
      ]
    },
    {
      "cell_type": "code",
      "metadata": {
        "id": "H_eoYnjUaWws"
      },
      "source": [
        "# 6075\n",
        "# 정수(0 ~ 100) 1개를 입력받아 0부터 그 수까지 순서대로 출력해보자.\n",
        "\n",
        "a = int(input())\n",
        "for i in range (0, a+1): print(i)\n",
        "# for i in range (a+1) ... 이렇게가 더 깔끔 ☆\n",
        "\n",
        "# 정답 제안\n",
        "# n=int(input())\n",
        "# i=0\n",
        "# while i<=n:\n",
        "#     print(i)\n",
        "#     i+=1"
      ],
      "execution_count": null,
      "outputs": []
    },
    {
      "cell_type": "markdown",
      "metadata": {
        "id": "W7efS_BQih_e"
      },
      "source": [
        "참고\n",
        "- range(n) 은 0, 1, 2, ... , n-2, n-1 까지의 수열을 의미한다. ex) range(3) = 0, 1, 2 \n",
        "\n",
        "- for i in range(n) :    #range(n)에 들어있는(in) 각각의 수에 대해서(for) 순서대로 i에 저장해 가면서 실행\n",
        "- 이때의 for는 '각각의 값에 대하여' 라는 for each 의 의미를 가진다고 생각할 수 있다.\n",
        "\n",
        "- range\n",
        "  - range(끝)\n",
        "  - range(시작, 끝)\n",
        "  - range(시작, 끝, 증감)\n",
        "  - 형태로 수열을 표현할 수 있다. 시작 수는 포함이고, 끝 수는 포함되지 않는다. 증감할 수를 작성하지 않으면 +1이 된다.\n",
        "\n",
        "- iterator\n",
        "  - 반복 실행구조에 반복 횟수를 기록/저장하는 변수로 i를 자주 사용하는데,\n",
        "i 는 반복자(iterator)를 나타내는 i라고 생각할 수 있다. i, j, k ... 알파벳 순으로 사용하기도 한다."
      ]
    },
    {
      "cell_type": "code",
      "metadata": {
        "id": "4hXHkWQMeR33"
      },
      "source": [
        "# 6076\n",
        "# 정수(0 ~ 100) 1개를 입력받아 0부터 그 수까지 순서대로 출력해보자.\n",
        "\n",
        "a = int(input())\n",
        "n = 0\n",
        "\n",
        "while n <= a:\n",
        "  print(n)\n",
        "  n += 1"
      ],
      "execution_count": null,
      "outputs": []
    },
    {
      "cell_type": "code",
      "metadata": {
        "id": "uJ8qF6ZDho47"
      },
      "source": [
        "# 6077\n",
        "# 정수(1 ~ 100) 1개를 입력받아 1부터 그 수까지 짝수의 합을 구해보자.\n",
        "\n",
        "a = int(input())\n",
        "n = 0  # 이름을 직관적으로 느낄 수 있게 \"sum\"으로 하자.\n",
        "\n",
        "for i in range(1, a+1):\n",
        "  if i % 2 == 0: # '='이 아니라, '=='으로 넣어야 함!\n",
        "    n += i\n",
        "print(n)\n",
        "\n",
        "# while 이나 for 반복실행구조를 이용할 수 있다.\n",
        "# 다른 방법이나 while 반복실행구조를 이용해서도 성공시켜 보자.\n",
        "\n",
        "a=int(input())\n",
        "sum=0\n",
        "\n",
        "while True:\n",
        "  for i in range(1, a+1):\n",
        "    if i % 2==0:\n",
        "      sum += i\n",
        "  break\n",
        "\n",
        "print(sum)\n",
        "\n",
        "# 결국 for문 아닌가? for문 아닌 while문 쓴 분 계신지 여쭤봐야지 "
      ],
      "execution_count": null,
      "outputs": []
    },
    {
      "cell_type": "code",
      "metadata": {
        "id": "iS5LgFdao02r"
      },
      "source": [
        "# 6078\n",
        "# 영문 소문자 'q'가 입력될 때까지\n",
        "# 입력한 문자를 계속 출력하는 프로그램을 작성해보자.\n",
        "\n",
        "# while 'a' != 'q':  # ' ' 안에 넣어서, 그리고 [==] or [!=] 형식으로!d \n",
        "#   a = input()\n",
        "#   print(a) # 이렇게는 끝나지 않음. 다른 도전 go. \n",
        "\n",
        "while True:\n",
        "  a = input()\n",
        "  print(a)\n",
        "  if a == 'q': # a는 변수라서 ' ' 필요 없지만 q는 문자로 제시!\n",
        "    break"
      ],
      "execution_count": null,
      "outputs": []
    },
    {
      "cell_type": "code",
      "metadata": {
        "colab": {
          "base_uri": "https://localhost:8080/"
        },
        "id": "ePib0d1IqCNC",
        "outputId": "8b89f479-3337-4c08-924c-e848aa6bd878"
      },
      "source": [
        "# 6079\n",
        "# 1, 2, 3 ... 을 계속 더해 나갈 때, 그 합이 입력한 정수(0 ~ 1000)보다 같거나 작을 때까지만 계속 더하는 프로그램을 작성해보자.\n",
        "# 즉, 1부터 n까지 정수를 계속 더해 나간다고 할 때, 어디까지 더해야 입력한 수보다 같거나 커지는 지를 알아보고자하는 문제이다.\n",
        "### 마지막에 더한 정수를 출력 ###\n",
        "\n",
        "a = int(input())\n",
        "sum = 0\n",
        "i = 1 \n",
        "\n",
        "if 0<= a <= 1000:\n",
        "  while sum < a: # [<=]으로 시작했는데 그럼 a와 같은 상황에도 진행됨!!\n",
        "    sum += i\n",
        "    i += 1\n",
        "  print(i-1)\n",
        "\n",
        "# 정답 제안  # i의 시작점, i의 순서에 따라 더 깔끔해짐.\n",
        "# s = 0\n",
        "# t = 0\n",
        "# while s<n :\n",
        "#   t = t+1\n",
        "#   s = s+t\n",
        "# print(t)"
      ],
      "execution_count": 85,
      "outputs": [
        {
          "output_type": "stream",
          "text": [
            "2\n",
            "2\n"
          ],
          "name": "stdout"
        }
      ]
    },
    {
      "cell_type": "code",
      "metadata": {
        "colab": {
          "base_uri": "https://localhost:8080/"
        },
        "id": "6x_NQf5cBmk2",
        "outputId": "4c3dddc6-1754-45dd-94e1-e0ac4dce2a81"
      },
      "source": [
        ""
      ],
      "execution_count": 94,
      "outputs": [
        {
          "output_type": "stream",
          "text": [
            "2 3\n",
            "1\n",
            "2\n",
            "3\n",
            "2\n",
            "4\n",
            "6\n"
          ],
          "name": "stdout"
        }
      ]
    },
    {
      "cell_type": "code",
      "metadata": {
        "id": "3KS1Kf_R6Iy8"
      },
      "source": [
        "# 6080\n",
        "# 1부터 n까지, 1부터 m까지 숫자가 적힌 서로 다른 주사위 2개를 던졌을 때, 나올 수 있는 모든 경우를 출력해보자.\n",
        "\n",
        "# 문제를 잘못 이해했음...ㅋㅋㅋ\n",
        "# 곱하기가 아니라 모든 경우!!! 출력!\n",
        "\n",
        "n, m = input().split()\n",
        "n=int(n)\n",
        "m=int(m)\n",
        "\n",
        "if n <= 10 and m <=10:\n",
        "  for i in range(1, n+1):\n",
        "    for j in range(1, m+1):\n",
        "      print(i, j)\n",
        "\n",
        "# 오름차순 순서로 출력하도록 한다.\n",
        "# 이 조건은 따로 내가 충족시켜주지 않아도 그대로 나오는데\n",
        "# 따로 조건 넣는 방법이 있나? "
      ],
      "execution_count": null,
      "outputs": []
    },
    {
      "cell_type": "markdown",
      "metadata": {
        "id": "V1DW98cOAJsD"
      },
      "source": [
        "- 조건선택 실행구조 안에 다른 조건선택 실행구조를 넣어 처리할 수 있는 것과 마찬가지로\n",
        "반복 실행구조 안에 다른 반복 실행구조를 넣어 처리할 수 있다.\n",
        "\n",
        "- 원하는 형태로 실행 구조를 결합하거나 중첩시킬 수 있다."
      ]
    },
    {
      "cell_type": "code",
      "metadata": {
        "id": "yBbVA2aR9ipm"
      },
      "source": [
        "# 6081\n",
        "# hexadecimal\n",
        "# 먼저 16진수 받아서 정수로 변환해서 곱셈\n",
        "# 그리고 나서 고민했음. 다시 16진수로 변환해서 표현 법.\n",
        "a = input()\n",
        "x = int(a, 16)  \n",
        "# n = int(input(), 16)\n",
        "\n",
        "for i in range(1, 15+1):\n",
        "  m = x * i\n",
        "  print(\"{0:X}*{1:X}={2:X}\".format(x, i, m)) \n",
        "  # print(\"%X*%X=%X\"%(n,i,n*i))\n",
        "\n",
        "# 결과도 16진수로 나오도록 만들기"
      ],
      "execution_count": null,
      "outputs": []
    },
    {
      "cell_type": "code",
      "metadata": {
        "id": "X8i2-0HKE4hn"
      },
      "source": [
        "# 10진수 => 16진수, 8진수, 2진수\n",
        "# 진수의 형태로 숫자를 표현하려면 숫자 앞에 접두어 붙음: 0x, 0o, 0b\n",
        "a = int(input())\n",
        "\n",
        "print(\"{0:x}\".format(a))  # hex : 0x : 3 == 0x3 == hex(3)   ... print()\n",
        "print(\"{0:o}\".format(a))  # oct : 0o : 3 == 0o3 == oct(0x3)\n",
        "print(\"{0:b}\".format(a))  # bin : 0b : 3 == 0b11== bin(0x3) == str(0b11)\n",
        "                          # hex: 내장함수\n",
        "\n",
        "print('%x' %a)\n",
        "print('%o' %a) \n",
        "# print('%b' %a) # 얘는 2진수로 변경이 안되네 흠. \n",
        "\n",
        "# n진수 => 10진수 (42)\n",
        "int('0b101010', 2) \n",
        "int('0o52', 8)\n",
        "int('0x2a', 16)\n",
        "\n",
        "# 사실 int() 함수의 2번째 인자는 디폴트값이 10\n",
        "# 따라서 생략했을 경우 문자열이 10진수의 숫자로 변환\n",
        "int('42', 10) == int('42') == 42"
      ],
      "execution_count": null,
      "outputs": []
    },
    {
      "cell_type": "code",
      "metadata": {
        "id": "p7xgdODCHA4V"
      },
      "source": [
        "# format() 내장 함수를 이용하면 \n",
        "# 숫자를 다른 진수의 문자열로 바꿀 때 접두어를 제외\n",
        "format(42, 'b') #'101010'\n",
        "format(42, 'o') #'52'\n",
        "format(42, 'x') #'2a'\n",
        "\n",
        "# 접두어를 포함시키는 것도 가능\n",
        "format(42, '#b') #'0b101010'\n",
        "format(42, '#o') #'0o52'\n",
        "format(42, '#x') #'0x2a'"
      ],
      "execution_count": 132,
      "outputs": []
    },
    {
      "cell_type": "code",
      "metadata": {
        "colab": {
          "base_uri": "https://localhost:8080/"
        },
        "id": "qHPpI-YdMbS3",
        "outputId": "90ad82cd-c76e-4647-9a70-1bb5338ee586"
      },
      "source": [
        "# 문자열 포멧터:\n",
        "# 10진수, 2진수, 8진수, 16진수를 한 줄의 문자열로 변환\n",
        "\"int: {0:d}, bin: {0:b}, oct: {0:o}, hex: {0:x}\".format(42)\n",
        "print(\"int: {0:d}, bin: {0:b}, oct: {0:o}, hex: {0:x}\".format(42))"
      ],
      "execution_count": 135,
      "outputs": [
        {
          "output_type": "stream",
          "text": [
            "int: 42, bin: 101010, oct: 52, hex: 2a\n"
          ],
          "name": "stdout"
        }
      ]
    }
  ]
}