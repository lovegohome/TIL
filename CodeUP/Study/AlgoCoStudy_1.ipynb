{
  "nbformat": 4,
  "nbformat_minor": 0,
  "metadata": {
    "colab": {
      "name": "AlgoCoStudy_1.ipynb",
      "provenance": [],
      "authorship_tag": "ABX9TyPguYK/c8tzOD79rZTMQW0C",
      "include_colab_link": true
    },
    "kernelspec": {
      "name": "python3",
      "display_name": "Python 3"
    },
    "language_info": {
      "name": "python"
    }
  },
  "cells": [
    {
      "cell_type": "markdown",
      "metadata": {
        "id": "view-in-github",
        "colab_type": "text"
      },
      "source": [
        "<a href=\"https://colab.research.google.com/github/lovegohome/TIL/blob/main/CodeUP/Study/AlgoCoStudy_1.ipynb\" target=\"_parent\"><img src=\"https://colab.research.google.com/assets/colab-badge.svg\" alt=\"Open In Colab\"/></a>"
      ]
    },
    {
      "cell_type": "code",
      "metadata": {
        "colab": {
          "base_uri": "https://localhost:8080/"
        },
        "id": "mwtW8SfKUF2d",
        "outputId": "f59dc089-77f9-40b0-d48c-cd676c48421f"
      },
      "source": [
        "N, K = map(int, input().split())\n",
        "n = 0\n",
        "\n",
        "while N != 1:\n",
        "  if N % K == 0:\n",
        "    N = N // K \n",
        "    n += 1\n",
        "  else: \n",
        "    N -= 1\n",
        "    n += 1\n",
        "print(n)\n",
        "\n",
        "# N //= K\n",
        "# N -= 1  이렇게 하라는 거구나. "
      ],
      "execution_count": null,
      "outputs": [
        {
          "output_type": "stream",
          "text": [
            "25 5\n",
            "2\n"
          ],
          "name": "stdout"
        }
      ]
    },
    {
      "cell_type": "code",
      "metadata": {
        "id": "sd5vu6dIVRPT"
      },
      "source": [
        "# 6095 _ study\n",
        "\n",
        "d=[]                   \n",
        "for i in range(20):   # 0~19 / 리스트는 0부터 \n",
        "  d.append([])  \n",
        "  for j in range(20) :  # 20*20\n",
        "    d[i].append(0)    \n",
        "\n",
        "n = int(input())\n",
        "for i in range(n) :\n",
        "  x, y = input().split()\n",
        "  d[int(x)][int(y)] = 1\n",
        "\n",
        "for i in range(1, 20) :  1~19 / \n",
        "  for j in range(1, 20) : \n",
        "    print(d[i][j], end=' ')  19*19\n",
        "  print()        \n",
        "\n",
        "\n",
        "  # make sense !!!! "
      ],
      "execution_count": null,
      "outputs": []
    },
    {
      "cell_type": "code",
      "metadata": {
        "id": "Ui91DyLPoYdt"
      },
      "source": [
        "d = []                        #대괄호 [ ] 를 이용해 아무것도 없는 빈 리스트 만들기\n",
        "\n",
        "for i in range(19): # range(20):0~19     <- 0~18\n",
        "  d.append([]) # d[i] = [[]] ????  #리스트 안에 다른 리스트 추가해 넣기\n",
        "  for j in range(19) : # 왜 여기선 range(1,20)으로 하면 왜 범위를 넘었다고 하지?\n",
        "    d[i].append(0)    #리스트 안에 들어있는 리스트 안에 0 추가해 넣기\n",
        "# d = [[0 for j in range(20)] for i in range(20)] # List Comprehensions\n",
        "\n",
        "n = int(input())\n",
        "for i in range(n) :\n",
        "  x, y = map(int, input().split())\n",
        "  d[x-1][y-1] = 1\n",
        "\n",
        "for i in range(19) :\n",
        "  for j in range(19) :\n",
        "    print(d[i][j], end=' ')    #공백을 두고 한 줄로 출력 # d[i][j] O, d[i, j] X\n",
        "  print('')\n"
      ],
      "execution_count": null,
      "outputs": []
    },
    {
      "cell_type": "code",
      "metadata": {
        "id": "Qj5NNcXlodgU"
      },
      "source": [
        "n = int(input()) #흰돌의 갯수\n",
        "bdp = [[0] * 20 for i in range(20)] #일단 19 by 19의 0으로 구성된 바둑판 만들기\n",
        "\n",
        "for i in range(n):\n",
        "    x, y = map(int, input().split()) # 몇 by 몇에 흰돌이 있는지 쓰기 (n번 입력)\n",
        "    bdp[x][y] = 1\n",
        "\n",
        "for i in range(1, 20):             #완성된 바둑판 출력\n",
        "    for j in range(1, 20):\n",
        "        print(bdp[i][j], end=' ')\n",
        "    print()\n"
      ],
      "execution_count": null,
      "outputs": []
    },
    {
      "cell_type": "code",
      "metadata": {
        "id": "v--4XBKRo_pc"
      },
      "source": [
        "d = []\n",
        "for i in range(19):\n",
        "    d.append([])\n",
        "    for j in range(19):\n",
        "        d[i].append(0)\n",
        "\n",
        "n = int(input())\n",
        "for i in range(n):\n",
        "    x,y = input().split()\n",
        "    d[int(x)-1][int(y)-1] = 1\n",
        "\n",
        "for i in range(19):\n",
        "    for j in range(19):\n",
        "        print(d[i][j], end=' ')\n",
        "    print()\n"
      ],
      "execution_count": null,
      "outputs": []
    },
    {
      "cell_type": "code",
      "metadata": {
        "id": "oVczlVydprZT"
      },
      "source": [
        "board=[[]*10 for _ in range(10)]\n",
        "for i in range(10):\n",
        "    board[i]=list(map(int,input().split()))\n",
        "x=1\n",
        "y=1\n",
        "board[x][y]=9\n",
        "\n",
        "while True:\n",
        "    if(board[x][y]==2):\n",
        "        board[x][y]=9\n",
        "        break\n",
        "    if(board[x][y+1]!=1):\n",
        "        board[x][y]=9\n",
        "        y+=1\n",
        "    else:\n",
        "        if(board[x+1][y]!=1):\n",
        "            board[x][y]=9\n",
        "            x+=1\n",
        "        else:\n",
        "          board[x][y]=9\n",
        "          break\n",
        "\n",
        "for i in range(10):\n",
        "    for j in range(10):\n",
        "        print(board[i][j],end=' ')\n",
        "    print()\n"
      ],
      "execution_count": null,
      "outputs": []
    }
  ]
}