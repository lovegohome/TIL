{
  "nbformat": 4,
  "nbformat_minor": 0,
  "metadata": {
    "colab": {
      "name": "AlgoCoStudy_1.ipynb",
      "provenance": [],
      "authorship_tag": "ABX9TyO0eCPuUfklsnQaonuApkxT",
      "include_colab_link": true
    },
    "kernelspec": {
      "name": "python3",
      "display_name": "Python 3"
    },
    "language_info": {
      "name": "python"
    }
  },
  "cells": [
    {
      "cell_type": "markdown",
      "metadata": {
        "id": "view-in-github",
        "colab_type": "text"
      },
      "source": [
        "<a href=\"https://colab.research.google.com/github/lovegohome/TIL/blob/main/CodeUP/Study/AlgoCoStudy_1.ipynb\" target=\"_parent\"><img src=\"https://colab.research.google.com/assets/colab-badge.svg\" alt=\"Open In Colab\"/></a>"
      ]
    },
    {
      "cell_type": "code",
      "metadata": {
        "colab": {
          "base_uri": "https://localhost:8080/"
        },
        "id": "mwtW8SfKUF2d",
        "outputId": "f59dc089-77f9-40b0-d48c-cd676c48421f"
      },
      "source": [
        "N, K = map(int, input().split())\n",
        "n = 0\n",
        "\n",
        "while N != 1:\n",
        "  if N % K == 0:\n",
        "    N = N // K \n",
        "    n += 1\n",
        "  else: \n",
        "    N -= 1\n",
        "    n += 1\n",
        "print(n)\n",
        "\n",
        "# N //= K\n",
        "# N -= 1  이렇게 하라는 거구나. "
      ],
      "execution_count": 8,
      "outputs": [
        {
          "output_type": "stream",
          "text": [
            "25 5\n",
            "2\n"
          ],
          "name": "stdout"
        }
      ]
    },
    {
      "cell_type": "code",
      "metadata": {
        "id": "sd5vu6dIVRPT"
      },
      "source": [
        "# 6095 _ study\n",
        "\n",
        "d=[]                   \n",
        "for i in range(20):   # 0~19 / 리스트는 0부터 \n",
        "  d.append([])  \n",
        "  for j in range(20) :  # 20*20\n",
        "    d[i].append(0)    \n",
        "\n",
        "n = int(input())\n",
        "for i in range(n) :\n",
        "  x, y = input().split()\n",
        "  d[int(x)][int(y)] = 1\n",
        "\n",
        "for i in range(1, 20) :  1~19 / \n",
        "  for j in range(1, 20) : \n",
        "    print(d[i][j], end=' ')  19*19\n",
        "  print()        \n",
        "\n",
        "\n",
        "  # make sense !!!! "
      ],
      "execution_count": null,
      "outputs": []
    },
    {
      "cell_type": "code",
      "metadata": {
        "id": "Ui91DyLPoYdt"
      },
      "source": [
        "d = []                        #대괄호 [ ] 를 이용해 아무것도 없는 빈 리스트 만들기\n",
        "\n",
        "for i in range(19): # range(20):0~19     <- 0~18\n",
        "  d.append([]) # d[i] = [[]] ????  #리스트 안에 다른 리스트 추가해 넣기\n",
        "  for j in range(19) : # 왜 여기선 range(1,20)으로 하면 왜 범위를 넘었다고 하지?\n",
        "    d[i].append(0)    #리스트 안에 들어있는 리스트 안에 0 추가해 넣기\n",
        "# d = [[0 for j in range(20)] for i in range(20)] # List Comprehensions\n",
        "\n",
        "n = int(input())\n",
        "for i in range(n) :\n",
        "  x, y = map(int, input().split())\n",
        "  d[x-1][y-1] = 1\n",
        "\n",
        "for i in range(19) :\n",
        "  for j in range(19) :\n",
        "    print(d[i][j], end=' ')    #공백을 두고 한 줄로 출력 # d[i][j] O, d[i, j] X\n",
        "  print('')\n"
      ],
      "execution_count": null,
      "outputs": []
    },
    {
      "cell_type": "code",
      "metadata": {
        "id": "Qj5NNcXlodgU"
      },
      "source": [
        "n = int(input()) #흰돌의 갯수\n",
        "bdp = [[0] * 20 for i in range(20)] #일단 19 by 19의 0으로 구성된 바둑판 만들기\n",
        "\n",
        "for i in range(n):\n",
        "    x, y = map(int, input().split()) # 몇 by 몇에 흰돌이 있는지 쓰기 (n번 입력)\n",
        "    bdp[x][y] = 1\n",
        "\n",
        "for i in range(1, 20):             #완성된 바둑판 출력\n",
        "    for j in range(1, 20):\n",
        "        print(bdp[i][j], end=' ')\n",
        "    print()\n"
      ],
      "execution_count": null,
      "outputs": []
    },
    {
      "cell_type": "code",
      "metadata": {
        "id": "v--4XBKRo_pc"
      },
      "source": [
        "d = []\n",
        "for i in range(19):\n",
        "    d.append([])\n",
        "    for j in range(19):\n",
        "        d[i].append(0)\n",
        "\n",
        "n = int(input())\n",
        "for i in range(n):\n",
        "    x,y = input().split()\n",
        "    d[int(x)-1][int(y)-1] = 1\n",
        "\n",
        "for i in range(19):\n",
        "    for j in range(19):\n",
        "        print(d[i][j], end=' ')\n",
        "    print()\n"
      ],
      "execution_count": null,
      "outputs": []
    },
    {
      "cell_type": "code",
      "metadata": {
        "id": "oVczlVydprZT"
      },
      "source": [
        "board=[[]*10 for _ in range(10)]\n",
        "for i in range(10):\n",
        "    board[i]=list(map(int,input().split()))\n",
        "x=1\n",
        "y=1\n",
        "board[x][y]=9\n",
        "\n",
        "while True:\n",
        "    if(board[x][y]==2):\n",
        "        board[x][y]=9\n",
        "        break\n",
        "    if(board[x][y+1]!=1):\n",
        "        board[x][y]=9\n",
        "        y+=1\n",
        "    else:\n",
        "        if(board[x+1][y]!=1):\n",
        "            board[x][y]=9\n",
        "            x+=1\n",
        "        else:\n",
        "          board[x][y]=9\n",
        "          break\n",
        "\n",
        "for i in range(10):\n",
        "    for j in range(10):\n",
        "        print(board[i][j],end=' ')\n",
        "    print()\n"
      ],
      "execution_count": null,
      "outputs": []
    },
    {
      "cell_type": "code",
      "metadata": {
        "id": "NYlP0-BE5h-y"
      },
      "source": [
        ""
      ],
      "execution_count": null,
      "outputs": []
    },
    {
      "cell_type": "code",
      "metadata": {
        "colab": {
          "base_uri": "https://localhost:8080/",
          "height": 280
        },
        "id": "ZQvr6r_G5icK",
        "outputId": "65f10db1-c6f7-460e-9229-6f46bf387921"
      },
      "source": [
        "N = int(input())\n",
        "p=[]\n",
        "for i in range(N):\n",
        "    p[i] = int(input()) # 여기서 경빈님이 보시죠 해서 끝..... \n",
        "    # p[[][][][]] 아하 \n",
        "    # append 사용 \n",
        "\n",
        "p.sort()\n",
        "\n",
        "sum=[]\n",
        "for i in range (N):\n",
        "  sum.append(p[i]*(N-i+1))\n",
        "\n",
        "sum\n",
        "\n",
        "# sum(sum)\n",
        "\n",
        "# p[i]*(N-i+1)\n",
        "\n",
        "\n",
        "\n",
        "#     p[1]*N      p[i]*(N)\n",
        "#     p[2]*(N-1)  p[i]*(N-i+1)\n",
        "#     p[3]*(N-2)  \n",
        "\n",
        "\n",
        "# a = p[1]\n",
        "# a = p[1]+p[2]\n",
        "# a = p[1]+p[2]+ '' +p[N-1] \n",
        "# sum.append(a)\n"
      ],
      "execution_count": 1,
      "outputs": [
        {
          "output_type": "stream",
          "text": [
            "5\n",
            "3\n"
          ],
          "name": "stdout"
        },
        {
          "output_type": "error",
          "ename": "IndexError",
          "evalue": "ignored",
          "traceback": [
            "\u001b[0;31m---------------------------------------------------------------------------\u001b[0m",
            "\u001b[0;31mIndexError\u001b[0m                                Traceback (most recent call last)",
            "\u001b[0;32m<ipython-input-1-f8267a5df431>\u001b[0m in \u001b[0;36m<module>\u001b[0;34m()\u001b[0m\n\u001b[1;32m      2\u001b[0m \u001b[0mp\u001b[0m\u001b[0;34m=\u001b[0m\u001b[0;34m[\u001b[0m\u001b[0;34m]\u001b[0m\u001b[0;34m\u001b[0m\u001b[0;34m\u001b[0m\u001b[0m\n\u001b[1;32m      3\u001b[0m \u001b[0;32mfor\u001b[0m \u001b[0mi\u001b[0m \u001b[0;32min\u001b[0m \u001b[0mrange\u001b[0m\u001b[0;34m(\u001b[0m\u001b[0mN\u001b[0m\u001b[0;34m)\u001b[0m\u001b[0;34m:\u001b[0m\u001b[0;34m\u001b[0m\u001b[0;34m\u001b[0m\u001b[0m\n\u001b[0;32m----> 4\u001b[0;31m     \u001b[0mp\u001b[0m\u001b[0;34m[\u001b[0m\u001b[0mi\u001b[0m\u001b[0;34m]\u001b[0m \u001b[0;34m=\u001b[0m \u001b[0mint\u001b[0m\u001b[0;34m(\u001b[0m\u001b[0minput\u001b[0m\u001b[0;34m(\u001b[0m\u001b[0;34m)\u001b[0m\u001b[0;34m)\u001b[0m\u001b[0;34m\u001b[0m\u001b[0;34m\u001b[0m\u001b[0m\n\u001b[0m\u001b[1;32m      5\u001b[0m \u001b[0;34m\u001b[0m\u001b[0m\n\u001b[1;32m      6\u001b[0m \u001b[0mp\u001b[0m\u001b[0;34m.\u001b[0m\u001b[0msort\u001b[0m\u001b[0;34m(\u001b[0m\u001b[0;34m)\u001b[0m\u001b[0;34m\u001b[0m\u001b[0;34m\u001b[0m\u001b[0m\n",
            "\u001b[0;31mIndexError\u001b[0m: list assignment index out of range"
          ]
        }
      ]
    },
    {
      "cell_type": "code",
      "metadata": {
        "id": "8xcLXAxj8s47"
      },
      "source": [
        "n = int(input())\n",
        "time = 0\n",
        "total = 0\n",
        "a = list(map(int,input().split()))\n",
        "a.sort()\n",
        "for i in range(n):\n",
        "    time += a[i]\n",
        "    total += time\n",
        "print(total)\n"
      ],
      "execution_count": null,
      "outputs": []
    },
    {
      "cell_type": "code",
      "metadata": {
        "id": "C81-zzD4B14D"
      },
      "source": [
        "# 윤희님 \n",
        "\n",
        "lenght = int(input())\n",
        "array = list(map(int, input().split()))\n",
        "count = [0] * (max(array) + 1)\n",
        "cnt = 0\n",
        "total = 0\n",
        "\n",
        "for i in range(len(array)) :\n",
        "  count[array[i]] += 1\n",
        "  print(count)\n",
        "\n",
        "for i in range(len(count)) :\n",
        "  for j in range(count[i]) :\n",
        "    total += i * (lenght - cnt)\n",
        "    cnt += 1\n",
        "    print(total, cnt)\n",
        "\n",
        "print(total)\n"
      ],
      "execution_count": null,
      "outputs": []
    },
    {
      "cell_type": "code",
      "metadata": {
        "id": "FjxXu-vUC8HV"
      },
      "source": [
        "n = int(input())\n",
        "p = list(map(int, input().split()))\n",
        "count = n\n",
        "sum = 0\n",
        "p.sort()\n",
        "for i in range(n):\n",
        "    sum += p[i] * count\n",
        "    count -= 1\n",
        "print(sum)\n"
      ],
      "execution_count": null,
      "outputs": []
    }
  ]
}