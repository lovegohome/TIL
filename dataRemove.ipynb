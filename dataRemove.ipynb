{
 "cells": [
  {
   "cell_type": "code",
   "execution_count": 1,
   "id": "21cc149f-76ac-4703-a158-f1ce84b78caf",
   "metadata": {},
   "outputs": [],
   "source": [
    "import pandas as pd"
   ]
  },
  {
   "cell_type": "code",
   "execution_count": 2,
   "id": "818618cd-a966-4c15-b1bf-88a1848ca7f3",
   "metadata": {},
   "outputs": [],
   "source": [
    "pop=pd.read_csv('./flot_pop_18_19_20_rere.csv', encoding='ansi')"
   ]
  },
  {
   "cell_type": "code",
   "execution_count": 3,
   "id": "aefe5cfe-c35c-4de8-a806-4969b2225bf9",
   "metadata": {},
   "outputs": [
    {
     "data": {
      "text/html": [
       "<div>\n",
       "<style scoped>\n",
       "    .dataframe tbody tr th:only-of-type {\n",
       "        vertical-align: middle;\n",
       "    }\n",
       "\n",
       "    .dataframe tbody tr th {\n",
       "        vertical-align: top;\n",
       "    }\n",
       "\n",
       "    .dataframe thead th {\n",
       "        text-align: right;\n",
       "    }\n",
       "</style>\n",
       "<table border=\"1\" class=\"dataframe\">\n",
       "  <thead>\n",
       "    <tr style=\"text-align: right;\">\n",
       "      <th></th>\n",
       "      <th>기준_년_코드</th>\n",
       "      <th>기준_분기_코드</th>\n",
       "      <th>상권_코드</th>\n",
       "      <th>상권_코드_명</th>\n",
       "      <th>id</th>\n",
       "      <th>구</th>\n",
       "      <th>총_유동인구_수</th>\n",
       "      <th>2020_총_유동인구_수_평균(상권코드)</th>\n",
       "      <th>2019_총_유동인구_수_평균(상권코드)</th>\n",
       "      <th>2018_총_유동인구_수_평균(상권코드)</th>\n",
       "    </tr>\n",
       "  </thead>\n",
       "  <tbody>\n",
       "    <tr>\n",
       "      <th>0</th>\n",
       "      <td>2020</td>\n",
       "      <td>4</td>\n",
       "      <td>1001010</td>\n",
       "      <td>풍성로37가길</td>\n",
       "      <td>18</td>\n",
       "      <td>송파구</td>\n",
       "      <td>9692443</td>\n",
       "      <td>9621189</td>\n",
       "      <td>9944687</td>\n",
       "      <td>2578365</td>\n",
       "    </tr>\n",
       "  </tbody>\n",
       "</table>\n",
       "</div>"
      ],
      "text/plain": [
       "   기준_년_코드  기준_분기_코드    상권_코드  상권_코드_명  id    구  총_유동인구_수  \\\n",
       "0     2020         4  1001010  풍성로37가길  18  송파구   9692443   \n",
       "\n",
       "   2020_총_유동인구_수_평균(상권코드)  2019_총_유동인구_수_평균(상권코드)  2018_총_유동인구_수_평균(상권코드)  \n",
       "0                 9621189                 9944687                 2578365  "
      ]
     },
     "execution_count": 3,
     "metadata": {},
     "output_type": "execute_result"
    }
   ],
   "source": [
    "pop.head(1)"
   ]
  },
  {
   "cell_type": "code",
   "execution_count": 74,
   "id": "62125d5f-22c7-4c84-a54d-fb83694d06fb",
   "metadata": {},
   "outputs": [],
   "source": [
    "pop.rename(columns={'기준_년_코드':'year','구':'gu', '총_유동인구_수':'pop'},inplace=True)"
   ]
  },
  {
   "cell_type": "code",
   "execution_count": null,
   "id": "941e0b45-fed0-40fd-88f2-1bf2d9af3b2e",
   "metadata": {},
   "outputs": [],
   "source": [
    "pop.columns"
   ]
  },
  {
   "cell_type": "code",
   "execution_count": 75,
   "id": "8536bfd0-1ab1-4c3f-a1ba-30efa8ca7611",
   "metadata": {},
   "outputs": [],
   "source": [
    "pop.drop(columns=['2020_총_유동인구_수_평균(상권코드)', '2019_총_유동인구_수_평균(상권코드)',\n",
    "       '2018_총_유동인구_수_평균(상권코드)','기준_분기_코드', '상권_코드', '상권_코드_명'], inplace=True)"
   ]
  },
  {
   "cell_type": "code",
   "execution_count": null,
   "id": "72de24b0-56e8-4c91-9e25-78401ae0a096",
   "metadata": {},
   "outputs": [],
   "source": [
    "pops = pd.DataFrame()"
   ]
  },
  {
   "cell_type": "code",
   "execution_count": null,
   "id": "7e013f02-f9a2-48f6-a4da-7c3461415890",
   "metadata": {},
   "outputs": [],
   "source": [
    "# for year in set(pop['year']):\n",
    "#     for gus in set(pop['gu']):\n",
    "#         pops=pops.append(pd.DataFrame([[gus,pop[(pop['year']==year) & (pop['gu']==gus)],\n",
    "#                           year]],columns=['gu','pop','year']),ignore_index=True)\n",
    "# pops"
   ]
  },
  {
   "cell_type": "code",
   "execution_count": null,
   "id": "97ac0881-5e80-4721-9ee4-9ed74cfb7b36",
   "metadata": {},
   "outputs": [],
   "source": [
    "for ye in set(pop['year']):\n",
    "    for gus in set(pop['gu']):\n",
    "        pop[(pop['year']==2020) & (pop['gu']=='강남구')]  \n",
    "# pops"
   ]
  },
  {
   "cell_type": "code",
   "execution_count": 76,
   "id": "936dec79-b55e-45c7-ab02-726b3df27f3a",
   "metadata": {},
   "outputs": [
    {
     "data": {
      "text/html": [
       "<div>\n",
       "<style scoped>\n",
       "    .dataframe tbody tr th:only-of-type {\n",
       "        vertical-align: middle;\n",
       "    }\n",
       "\n",
       "    .dataframe tbody tr th {\n",
       "        vertical-align: top;\n",
       "    }\n",
       "\n",
       "    .dataframe thead th {\n",
       "        text-align: right;\n",
       "    }\n",
       "</style>\n",
       "<table border=\"1\" class=\"dataframe\">\n",
       "  <thead>\n",
       "    <tr style=\"text-align: right;\">\n",
       "      <th></th>\n",
       "      <th>year</th>\n",
       "      <th>id</th>\n",
       "      <th>gu</th>\n",
       "      <th>pop</th>\n",
       "    </tr>\n",
       "  </thead>\n",
       "  <tbody>\n",
       "    <tr>\n",
       "      <th>71</th>\n",
       "      <td>2020</td>\n",
       "      <td>1</td>\n",
       "      <td>강남구</td>\n",
       "      <td>3909208</td>\n",
       "    </tr>\n",
       "    <tr>\n",
       "      <th>72</th>\n",
       "      <td>2020</td>\n",
       "      <td>1</td>\n",
       "      <td>강남구</td>\n",
       "      <td>4204012</td>\n",
       "    </tr>\n",
       "    <tr>\n",
       "      <th>73</th>\n",
       "      <td>2020</td>\n",
       "      <td>1</td>\n",
       "      <td>강남구</td>\n",
       "      <td>6023917</td>\n",
       "    </tr>\n",
       "    <tr>\n",
       "      <th>74</th>\n",
       "      <td>2020</td>\n",
       "      <td>1</td>\n",
       "      <td>강남구</td>\n",
       "      <td>3628839</td>\n",
       "    </tr>\n",
       "    <tr>\n",
       "      <th>75</th>\n",
       "      <td>2020</td>\n",
       "      <td>1</td>\n",
       "      <td>강남구</td>\n",
       "      <td>2394154</td>\n",
       "    </tr>\n",
       "    <tr>\n",
       "      <th>...</th>\n",
       "      <td>...</td>\n",
       "      <td>...</td>\n",
       "      <td>...</td>\n",
       "      <td>...</td>\n",
       "    </tr>\n",
       "    <tr>\n",
       "      <th>3189</th>\n",
       "      <td>2020</td>\n",
       "      <td>1</td>\n",
       "      <td>강남구</td>\n",
       "      <td>3250752</td>\n",
       "    </tr>\n",
       "    <tr>\n",
       "      <th>3194</th>\n",
       "      <td>2020</td>\n",
       "      <td>1</td>\n",
       "      <td>강남구</td>\n",
       "      <td>2995023</td>\n",
       "    </tr>\n",
       "    <tr>\n",
       "      <th>3195</th>\n",
       "      <td>2020</td>\n",
       "      <td>1</td>\n",
       "      <td>강남구</td>\n",
       "      <td>3624857</td>\n",
       "    </tr>\n",
       "    <tr>\n",
       "      <th>3196</th>\n",
       "      <td>2020</td>\n",
       "      <td>1</td>\n",
       "      <td>강남구</td>\n",
       "      <td>1378294</td>\n",
       "    </tr>\n",
       "    <tr>\n",
       "      <th>3197</th>\n",
       "      <td>2020</td>\n",
       "      <td>1</td>\n",
       "      <td>강남구</td>\n",
       "      <td>7328270</td>\n",
       "    </tr>\n",
       "  </tbody>\n",
       "</table>\n",
       "<p>236 rows × 4 columns</p>\n",
       "</div>"
      ],
      "text/plain": [
       "      year  id   gu      pop\n",
       "71    2020   1  강남구  3909208\n",
       "72    2020   1  강남구  4204012\n",
       "73    2020   1  강남구  6023917\n",
       "74    2020   1  강남구  3628839\n",
       "75    2020   1  강남구  2394154\n",
       "...    ...  ..  ...      ...\n",
       "3189  2020   1  강남구  3250752\n",
       "3194  2020   1  강남구  2995023\n",
       "3195  2020   1  강남구  3624857\n",
       "3196  2020   1  강남구  1378294\n",
       "3197  2020   1  강남구  7328270\n",
       "\n",
       "[236 rows x 4 columns]"
      ]
     },
     "execution_count": 76,
     "metadata": {},
     "output_type": "execute_result"
    }
   ],
   "source": [
    "pop[(pop['year']==2020) & (pop['gu']=='강남구')]"
   ]
  },
  {
   "cell_type": "code",
   "execution_count": 19,
   "id": "618f5351-7205-47f6-96bb-1a8a06575cbd",
   "metadata": {},
   "outputs": [],
   "source": [
    "pop_2020_1=pop[(pop['year']==2020) & (pop['gu']=='서대문구')]"
   ]
  },
  {
   "cell_type": "code",
   "execution_count": 18,
   "id": "e6ff1232-9cd9-41b5-8b6e-a2af56524263",
   "metadata": {},
   "outputs": [],
   "source": [
    "import matplotlib.pyplot as plt"
   ]
  },
  {
   "cell_type": "code",
   "execution_count": 10,
   "id": "9e346458-4734-4860-8104-781d7b480653",
   "metadata": {},
   "outputs": [],
   "source": [
    "import seaborn as sns"
   ]
  },
  {
   "cell_type": "code",
   "execution_count": 11,
   "id": "09be9ac3-29d1-4f99-a8aa-156bd8ec2f19",
   "metadata": {},
   "outputs": [],
   "source": [
    "import numpy as np"
   ]
  },
  {
   "cell_type": "code",
   "execution_count": 20,
   "id": "a68fc8ac-58bc-407c-b1e7-6bde9ce66b9d",
   "metadata": {},
   "outputs": [
    {
     "data": {
      "text/plain": [
       "<AxesSubplot:>"
      ]
     },
     "execution_count": 20,
     "metadata": {},
     "output_type": "execute_result"
    },
    {
     "data": {
      "image/png": "[encoded data removed]",
      "text/plain": [
       "<Figure size 720x432 with 1 Axes>"
      ]
     },
     "metadata": {
      "needs_background": "light"
     },
     "output_type": "display_data"
    }
   ],
   "source": [
    "fig=plt.figure(figsize=(10,6))\n",
    "sns.boxplot(data=pop_2020_1)"
   ]
  },
  {
   "cell_type": "code",
   "execution_count": 27,
   "id": "9475523e-469e-47d4-a020-267415f0cb7a",
   "metadata": {},
   "outputs": [],
   "source": [
    "def outliers_iqr(data):\n",
    "    q1, q3 = np.percentile(data,[2,75])\n",
    "    iqr = q3 - q1\n",
    "    lower_bound = q1 - (iqr * 1.5)\n",
    "    upper_bound = q3 + (iqr * 1.5)\n",
    "    \n",
    "    return np.where((data > upper_bound)| (data < lower_bound))"
   ]
  },
  {
   "cell_type": "code",
   "execution_count": 49,
   "id": "9f6b6b71-a695-43ef-b031-79b8b125d771",
   "metadata": {},
   "outputs": [],
   "source": [
    "delete_pop=outliers_iqr(pop_2020_1['pop'])[0]"
   ]
  },
  {
   "cell_type": "code",
   "execution_count": 106,
   "id": "9d7b3622-9d30-4ed4-8868-7701ae534afd",
   "metadata": {},
   "outputs": [
    {
     "data": {
      "text/plain": [
       "numpy.ndarray"
      ]
     },
     "execution_count": 106,
     "metadata": {},
     "output_type": "execute_result"
    }
   ],
   "source": [
    "type(delete_pop)"
   ]
  },
  {
   "cell_type": "code",
   "execution_count": 51,
   "id": "30bfaa68-a92b-4f95-851e-1a0219c61f60",
   "metadata": {},
   "outputs": [
    {
     "data": {
      "text/plain": [
       "566     17021456\n",
       "571     18543225\n",
       "1576    14980285\n",
       "1581    16446570\n",
       "2586    15147726\n",
       "2591    16568887\n",
       "3596    15730058\n",
       "3601    17164373\n",
       "Name: pop, dtype: int64"
      ]
     },
     "execution_count": 51,
     "metadata": {},
     "output_type": "execute_result"
    }
   ],
   "source": [
    "pop_2020_1.iloc[[13,18,  77,  82, 141, 146, 205, 210],3]#,  ]"
   ]
  },
  {
   "cell_type": "code",
   "execution_count": 90,
   "id": "0c05eff8-869d-4805-a4ac-22476fd0bc6d",
   "metadata": {},
   "outputs": [],
   "source": [
    "a=pop[(pop['year']==2020) & (pop['id']==1)]"
   ]
  },
  {
   "cell_type": "code",
   "execution_count": 108,
   "id": "b6c4cad0-bd0d-45f3-a256-e7c8ee97668a",
   "metadata": {
    "tags": []
   },
   "outputs": [
    {
     "ename": "TypeError",
     "evalue": "array() missing required argument 'object' (pos 1)",
     "output_type": "error",
     "traceback": [
      "\u001b[1;31m---------------------------------------------------------------------------\u001b[0m",
      "\u001b[1;31mTypeError\u001b[0m                                 Traceback (most recent call last)",
      "\u001b[1;32m<ipython-input-108-0964eda000b3>\u001b[0m in \u001b[0;36m<module>\u001b[1;34m\u001b[0m\n\u001b[0;32m      1\u001b[0m \u001b[0mrmData\u001b[0m \u001b[1;33m=\u001b[0m \u001b[0mpd\u001b[0m\u001b[1;33m.\u001b[0m\u001b[0mDataFrame\u001b[0m\u001b[1;33m(\u001b[0m\u001b[0mcolumns\u001b[0m\u001b[1;33m=\u001b[0m\u001b[1;33m[\u001b[0m\u001b[1;34m'index'\u001b[0m\u001b[1;33m,\u001b[0m\u001b[1;34m'pop'\u001b[0m\u001b[1;33m]\u001b[0m\u001b[1;33m)\u001b[0m\u001b[1;33m\u001b[0m\u001b[1;33m\u001b[0m\u001b[0m\n\u001b[1;32m----> 2\u001b[1;33m \u001b[0mrmD\u001b[0m \u001b[1;33m=\u001b[0m \u001b[0mnp\u001b[0m\u001b[1;33m.\u001b[0m\u001b[0marray\u001b[0m\u001b[1;33m(\u001b[0m\u001b[1;33m)\u001b[0m\u001b[1;33m\u001b[0m\u001b[1;33m\u001b[0m\u001b[0m\n\u001b[0m\u001b[0;32m      3\u001b[0m \u001b[1;32mfor\u001b[0m \u001b[0mye\u001b[0m \u001b[1;32min\u001b[0m \u001b[0mset\u001b[0m\u001b[1;33m(\u001b[0m\u001b[0mpop\u001b[0m\u001b[1;33m[\u001b[0m\u001b[1;34m'year'\u001b[0m\u001b[1;33m]\u001b[0m\u001b[1;33m)\u001b[0m\u001b[1;33m:\u001b[0m\u001b[1;33m\u001b[0m\u001b[1;33m\u001b[0m\u001b[0m\n\u001b[0;32m      4\u001b[0m     \u001b[1;32mfor\u001b[0m \u001b[0mi\u001b[0m \u001b[1;32min\u001b[0m \u001b[0mset\u001b[0m\u001b[1;33m(\u001b[0m\u001b[0mpop\u001b[0m\u001b[1;33m[\u001b[0m\u001b[1;34m'id'\u001b[0m\u001b[1;33m]\u001b[0m\u001b[1;33m)\u001b[0m\u001b[1;33m:\u001b[0m\u001b[1;33m\u001b[0m\u001b[1;33m\u001b[0m\u001b[0m\n\u001b[0;32m      5\u001b[0m \u001b[1;31m#         pop[(pop['year']==2020) & (pop['gu']=='강남구')]\u001b[0m\u001b[1;33m\u001b[0m\u001b[1;33m\u001b[0m\u001b[1;33m\u001b[0m\u001b[0m\n",
      "\u001b[1;31mTypeError\u001b[0m: array() missing required argument 'object' (pos 1)"
     ]
    }
   ],
   "source": [
    "rmData = pd.DataFrame(columns=['index','pop'])\n",
    "rmD = np.array()\n",
    "for ye in set(pop['year']):\n",
    "    for i in set(pop['id']):\n",
    "#         pop[(pop['year']==2020) & (pop['gu']=='강남구')]\n",
    "#         globals()['pop'+\"_\"+ye+\"_\"+i] =\n",
    "#         rmData=rmData.append(pd.DataFrame([[i,pop[(pop['year']==ye) & (pop['id']==i)]['pop']]],\n",
    "#                                          ),ignore_index=True)\n",
    "        rmD = np.append(pop[(pop['year']==ye) & (pop['id']==i)]['pop'], axis=0)"
   ]
  },
  {
   "cell_type": "code",
   "execution_count": 104,
   "id": "5ff66371-938b-4eb3-980a-19a3742123b5",
   "metadata": {},
   "outputs": [
    {
     "data": {
      "text/html": [
       "<div>\n",
       "<style scoped>\n",
       "    .dataframe tbody tr th:only-of-type {\n",
       "        vertical-align: middle;\n",
       "    }\n",
       "\n",
       "    .dataframe tbody tr th {\n",
       "        vertical-align: top;\n",
       "    }\n",
       "\n",
       "    .dataframe thead th {\n",
       "        text-align: right;\n",
       "    }\n",
       "</style>\n",
       "<table border=\"1\" class=\"dataframe\">\n",
       "  <thead>\n",
       "    <tr style=\"text-align: right;\">\n",
       "      <th></th>\n",
       "      <th>0</th>\n",
       "      <th>1</th>\n",
       "      <th>index</th>\n",
       "      <th>pop</th>\n",
       "    </tr>\n",
       "  </thead>\n",
       "  <tbody>\n",
       "    <tr>\n",
       "      <th>0</th>\n",
       "      <td>1.0</td>\n",
       "      <td>8151     1202416\n",
       "8152     1386987\n",
       "8153     283...</td>\n",
       "      <td>NaN</td>\n",
       "      <td>NaN</td>\n",
       "    </tr>\n",
       "    <tr>\n",
       "      <th>1</th>\n",
       "      <td>2.0</td>\n",
       "      <td>8081     2980011\n",
       "8082     3262874\n",
       "8083      17...</td>\n",
       "      <td>NaN</td>\n",
       "      <td>NaN</td>\n",
       "    </tr>\n",
       "    <tr>\n",
       "      <th>2</th>\n",
       "      <td>3.0</td>\n",
       "      <td>8711     2570076\n",
       "8712      630354\n",
       "8713      89...</td>\n",
       "      <td>NaN</td>\n",
       "      <td>NaN</td>\n",
       "    </tr>\n",
       "    <tr>\n",
       "      <th>3</th>\n",
       "      <td>4.0</td>\n",
       "      <td>8482     1553726\n",
       "8483     1573703\n",
       "8484     185...</td>\n",
       "      <td>NaN</td>\n",
       "      <td>NaN</td>\n",
       "    </tr>\n",
       "    <tr>\n",
       "      <th>4</th>\n",
       "      <td>5.0</td>\n",
       "      <td>8248      352236\n",
       "8249     1166069\n",
       "8250     117...</td>\n",
       "      <td>NaN</td>\n",
       "      <td>NaN</td>\n",
       "    </tr>\n",
       "    <tr>\n",
       "      <th>...</th>\n",
       "      <td>...</td>\n",
       "      <td>...</td>\n",
       "      <td>...</td>\n",
       "      <td>...</td>\n",
       "    </tr>\n",
       "    <tr>\n",
       "      <th>70</th>\n",
       "      <td>21.0</td>\n",
       "      <td>504     6283263\n",
       "923     3364227\n",
       "924     450591...</td>\n",
       "      <td>NaN</td>\n",
       "      <td>NaN</td>\n",
       "    </tr>\n",
       "    <tr>\n",
       "      <th>71</th>\n",
       "      <td>22.0</td>\n",
       "      <td>617     6151598\n",
       "618     6015238\n",
       "619     629816...</td>\n",
       "      <td>NaN</td>\n",
       "      <td>NaN</td>\n",
       "    </tr>\n",
       "    <tr>\n",
       "      <th>72</th>\n",
       "      <td>23.0</td>\n",
       "      <td>713     3114463\n",
       "714     2662310\n",
       "983     289497...</td>\n",
       "      <td>NaN</td>\n",
       "      <td>NaN</td>\n",
       "    </tr>\n",
       "    <tr>\n",
       "      <th>73</th>\n",
       "      <td>24.0</td>\n",
       "      <td>840     3276850\n",
       "909     5400680\n",
       "910     344689...</td>\n",
       "      <td>NaN</td>\n",
       "      <td>NaN</td>\n",
       "    </tr>\n",
       "    <tr>\n",
       "      <th>74</th>\n",
       "      <td>25.0</td>\n",
       "      <td>622     5823311\n",
       "623     6520297\n",
       "624     409742...</td>\n",
       "      <td>NaN</td>\n",
       "      <td>NaN</td>\n",
       "    </tr>\n",
       "  </tbody>\n",
       "</table>\n",
       "<p>75 rows × 4 columns</p>\n",
       "</div>"
      ],
      "text/plain": [
       "       0                                                  1 index  pop\n",
       "0    1.0  8151     1202416\n",
       "8152     1386987\n",
       "8153     283...   NaN  NaN\n",
       "1    2.0  8081     2980011\n",
       "8082     3262874\n",
       "8083      17...   NaN  NaN\n",
       "2    3.0  8711     2570076\n",
       "8712      630354\n",
       "8713      89...   NaN  NaN\n",
       "3    4.0  8482     1553726\n",
       "8483     1573703\n",
       "8484     185...   NaN  NaN\n",
       "4    5.0  8248      352236\n",
       "8249     1166069\n",
       "8250     117...   NaN  NaN\n",
       "..   ...                                                ...   ...  ...\n",
       "70  21.0  504     6283263\n",
       "923     3364227\n",
       "924     450591...   NaN  NaN\n",
       "71  22.0  617     6151598\n",
       "618     6015238\n",
       "619     629816...   NaN  NaN\n",
       "72  23.0  713     3114463\n",
       "714     2662310\n",
       "983     289497...   NaN  NaN\n",
       "73  24.0  840     3276850\n",
       "909     5400680\n",
       "910     344689...   NaN  NaN\n",
       "74  25.0  622     5823311\n",
       "623     6520297\n",
       "624     409742...   NaN  NaN\n",
       "\n",
       "[75 rows x 4 columns]"
      ]
     },
     "execution_count": 104,
     "metadata": {},
     "output_type": "execute_result"
    }
   ],
   "source": [
    "rmData"
   ]
  },
  {
   "cell_type": "code",
   "execution_count": 69,
   "id": "d3123147-2d64-4ddb-8243-008fbcae8dd6",
   "metadata": {},
   "outputs": [
    {
     "name": "stdout",
     "output_type": "stream",
     "text": [
      "서대문구\n",
      "강동구\n",
      "강북구\n",
      "은평구\n",
      "마포구\n",
      "송파구\n",
      "광진구\n",
      "중랑구\n",
      "노원구\n",
      "서초구\n",
      "양천구\n",
      "도봉구\n",
      "강남구\n",
      "동대문구\n",
      "구로구\n",
      "성동구\n",
      "중구\n",
      "용산구\n",
      "성북구\n",
      "영등포구\n",
      "종로구\n",
      "금천구\n",
      "강서구\n",
      "관악구\n",
      "동작구\n"
     ]
    }
   ],
   "source": [
    "for i in set(pop['gu']):\n",
    "    print(i)"
   ]
  },
  {
   "cell_type": "code",
   "execution_count": 65,
   "id": "973d4cb3-1720-403b-a704-a993c6b5d745",
   "metadata": {},
   "outputs": [
    {
     "ename": "NameError",
     "evalue": "name 'pop1' is not defined",
     "output_type": "error",
     "traceback": [
      "\u001b[1;31m---------------------------------------------------------------------------\u001b[0m",
      "\u001b[1;31mNameError\u001b[0m                                 Traceback (most recent call last)",
      "\u001b[1;32m<ipython-input-65-bae554c21ffe>\u001b[0m in \u001b[0;36m<module>\u001b[1;34m\u001b[0m\n\u001b[0;32m      3\u001b[0m \u001b[1;31m#     print(i)\u001b[0m\u001b[1;33m\u001b[0m\u001b[1;33m\u001b[0m\u001b[1;33m\u001b[0m\u001b[0m\n\u001b[0;32m      4\u001b[0m     \u001b[0mglobals\u001b[0m\u001b[1;33m(\u001b[0m\u001b[1;33m)\u001b[0m\u001b[1;33m[\u001b[0m\u001b[1;34m'pop'\u001b[0m \u001b[1;33m+\u001b[0m \u001b[0mstr\u001b[0m\u001b[1;33m(\u001b[0m\u001b[0mi\u001b[0m\u001b[1;33m)\u001b[0m\u001b[1;33m]\u001b[0m \u001b[1;33m=\u001b[0m \u001b[0mi\u001b[0m\u001b[1;33m\u001b[0m\u001b[1;33m\u001b[0m\u001b[0m\n\u001b[1;32m----> 5\u001b[1;33m \u001b[0mprint\u001b[0m\u001b[1;33m(\u001b[0m\u001b[0mpop1\u001b[0m \u001b[1;33m+\u001b[0m \u001b[0mpop2\u001b[0m\u001b[1;33m)\u001b[0m\u001b[1;33m\u001b[0m\u001b[1;33m\u001b[0m\u001b[0m\n\u001b[0m\u001b[0;32m      6\u001b[0m \u001b[1;31m# test2\u001b[0m\u001b[1;33m\u001b[0m\u001b[1;33m\u001b[0m\u001b[1;33m\u001b[0m\u001b[0m\n",
      "\u001b[1;31mNameError\u001b[0m: name 'pop1' is not defined"
     ]
    }
   ],
   "source": [
    "# i=[]\n",
    "for i in pop['id']:\n",
    "#     print(i)\n",
    "    globals()['pop' + str(i)] = i\n",
    "#     print(pop1 + pop2)\n",
    "# test2"
   ]
  },
  {
   "cell_type": "code",
   "execution_count": null,
   "id": "4900fd49-cf10-4839-9856-e911fb0f0353",
   "metadata": {},
   "outputs": [],
   "source": [
    "# import pymysql.cursors # Connect to the database\n",
    "\n",
    "# connection = pymysql.connect(host='localhost',\n",
    "#         user='root',\n",
    "#         password='1234',\n",
    "#         db='classicmodels',\n",
    "#         charset='utf8',\n",
    "#         cursorclass=pymysql.cursors.DictCursor)"
   ]
  }
 ],
 "metadata": {
  "kernelspec": {
   "display_name": "Python Multi2",
   "language": "python",
   "name": "multi2"
  },
  "language_info": {
   "codemirror_mode": {
    "name": "ipython",
    "version": 3
   },
   "file_extension": ".py",
   "mimetype": "text/x-python",
   "name": "python",
   "nbconvert_exporter": "python",
   "pygments_lexer": "ipython3",
   "version": "3.7.6"
  }
 },
 "nbformat": 4,
 "nbformat_minor": 5
}
