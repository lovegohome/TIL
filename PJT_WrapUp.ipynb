{
  "nbformat": 4,
  "nbformat_minor": 0,
  "metadata": {
    "colab": {
      "name": "PJT-WrapUp.ipynb",
      "provenance": [],
      "authorship_tag": "ABX9TyO4r7Urv2wTt3W6TVhWZmpq",
      "include_colab_link": true
    },
    "kernelspec": {
      "name": "python3",
      "display_name": "Python 3"
    },
    "language_info": {
      "name": "python"
    }
  },
  "cells": [
    {
      "cell_type": "markdown",
      "metadata": {
        "id": "view-in-github",
        "colab_type": "text"
      },
      "source": [
        "<a href=\"https://colab.research.google.com/github/lovegohome/TIL/blob/main/PJT_WrapUp.ipynb\" target=\"_parent\"><img src=\"https://colab.research.google.com/assets/colab-badge.svg\" alt=\"Open In Colab\"/></a>"
      ]
    },
    {
      "cell_type": "markdown",
      "metadata": {
        "id": "-9gsFogwUb81"
      },
      "source": [
        "프로젝트 flow: 관심 주제 - 데이터 마트 - 연구 모형(추상화) - 데이터 전처리"
      ]
    },
    {
      "cell_type": "markdown",
      "metadata": {
        "id": "QaBEG_XnUZH-"
      },
      "source": [
        "# 21.07.13."
      ]
    },
    {
      "cell_type": "markdown",
      "metadata": {
        "id": "jdRDV2ikUafr"
      },
      "source": [
        "### 변수 선택"
      ]
    },
    {
      "cell_type": "markdown",
      "metadata": {
        "id": "SQ3lWCQ6U1_0"
      },
      "source": [
        "- [lime sas](https://blogs.sas.com/content/saskorea/2018/12/10/%EB%A8%B8%EC%8B%A0%EB%9F%AC%EB%8B%9D-%ED%95%B4%EC%84%9D%EB%A0%A5-%EC%8B%9C%EB%A6%AC%EC%A6%88-4%ED%83%84-%EB%9D%BC%EC%9E%84lime%EC%9C%BC%EB%A1%9C-%EB%AA%A8%EB%8D%B8-%ED%95%B4%EC%84%9D%EB%A0%A5/): 머신러닝의 해석력, 변수를 어떻게 선택하는지 설명\n",
        "- 예측력 판단: pdp, IDE (모델에 넣어봐야 안다.)\n",
        "- 현재 우리는 **히트맵**을 갖고 **논리**를 만들어서 feature를 고르기. \n",
        "- **ref: 컬럼 랭킹, 칼럼 명** \n",
        "- 문헌연구, PCA, 상관관계, 예측력 높은 거만 뽑아서 사용해=corr, pca, ref, 회귀분석, 머신러닝;xgboost-lightboost\n",
        "- 우리가 직접 해봐야 한다. (1번을 중심으로)"
      ]
    },
    {
      "cell_type": "markdown",
      "metadata": {
        "id": "Qdy9NxO5Upq9"
      },
      "source": [
        "![image.png](data:image/png;base64,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)"
      ]
    },
    {
      "cell_type": "markdown",
      "metadata": {
        "id": "50XQ1jkXUu1V"
      },
      "source": [
        "### 유동인구\n",
        "\n",
        "\n"
      ]
    },
    {
      "cell_type": "markdown",
      "metadata": {
        "id": "6tWlTDv7U4kd"
      },
      "source": [
        "- 연령대, 성별 - 인구 특성 / 요일, 시간 \n",
        "- 다루면 확실히 좋을 거 같긴 한데 + 부담 증가"
      ]
    },
    {
      "cell_type": "markdown",
      "metadata": {
        "id": "DCfkCN9SUwwy"
      },
      "source": [
        "### 참고자료"
      ]
    },
    {
      "cell_type": "markdown",
      "metadata": {
        "id": "q4g97MVWU9Fj"
      },
      "source": [
        "1. 파이썬 아노바\n",
        "   https://partrita.github.io/posts/ANOVA-python/ \n",
        "2. 지역정보개발원(클리드, klid) : 시군구 데이터 normalize\n",
        "3. lime sas: 머신러닝의 해석력\n",
        "   https://blogs.sas.com/content/saskorea/2018/12/10/%EB%A8%B8%EC%8B%A0%EB%9F%AC%EB%8B%9D-%ED%95%B4%EC%84%9D%EB%A0%A5-%EC%8B%9C%EB%A6%AC%EC%A6%88-4%ED%83%84-%EB%9D%BC%EC%9E%84lime%EC%9C%BC%EB%A1%9C-%EB%AA%A8%EB%8D%B8-%ED%95%B4%EC%84%9D%EB%A0%A5/)\n",
        "4. 앙상블, xgboost\n",
        "   https://lsjsj92.tistory.com/547"
      ]
    },
    {
      "cell_type": "code",
      "metadata": {
        "id": "akowb-SSUR64"
      },
      "source": [
        ""
      ],
      "execution_count": null,
      "outputs": []
    }
  ]
}